{
 "cells": [
  {
   "cell_type": "markdown",
   "metadata": {},
   "source": [
    "# Imports and General Settings"
   ]
  },
  {
   "cell_type": "code",
   "execution_count": 1,
   "metadata": {
    "ExecuteTime": {
     "end_time": "2019-08-15T17:54:04.388690Z",
     "start_time": "2019-08-15T17:53:58.221279Z"
    }
   },
   "outputs": [
    {
     "name": "stderr",
     "output_type": "stream",
     "text": [
      "/usr/local/lib/python3.6/dist-packages/matplotlib/__init__.py:886: MatplotlibDeprecationWarning: \n",
      "examples.directory is deprecated; in the future, examples will be found relative to the 'datapath' directory.\n",
      "  \"found relative to the 'datapath' directory.\".format(key))\n"
     ]
    },
    {
     "name": "stdout",
     "output_type": "stream",
     "text": [
      "/device:GPU:0\n"
     ]
    }
   ],
   "source": [
    "import tensorflow as tf\n",
    "import tensorflow.contrib as tf_contrib\n",
    "\n",
    "import os\n",
    "import pathlib\n",
    "\n",
    "import numpy as np\n",
    "\n",
    "import io\n",
    "\n",
    "import random\n",
    "\n",
    "import pylab\n",
    "import tfplot\n",
    "\n",
    "import matplotlib.pyplot as plt\n",
    "import seaborn as sns\n",
    "%matplotlib inline\n",
    "\n",
    "import tfx\n",
    "import tensorflow_transform as tft\n",
    "\n",
    "from cleverhans.loss import SNNLCrossEntropy\n",
    "\n",
    "# import self utility functions\n",
    "import model_arch_utility as model_arch\n",
    "import log_utility as log_util\n",
    "import data_augmentation_utility as da_util\n",
    "import load_data_utility as load_data_util\n",
    "\n",
    "# tensorflow specific settings\n",
    "tf.enable_eager_execution()\n",
    "tf.logging.set_verbosity(tf.logging.DEBUG)\n",
    "\n",
    "# which GPU to be used (0 is RTX, 1 or 2 are either of the Titan Xps)\n",
    "gpu = \"/GPU:0\"\n",
    "\n",
    "AUTOTUNE = tf.contrib.data.AUTOTUNE\n",
    "\n",
    "session_config = tf.ConfigProto()\n",
    "session_config.gpu_options.allow_growth = True\n",
    "session_config.allow_soft_placement = True\n",
    "\n",
    "# session_config.log_device_placement = True\n",
    "tf.keras.backend.set_session(tf.Session(config=session_config))\n",
    "\n",
    "# make sure tensorflow-gpu is being used\n",
    "print(tf.test.gpu_device_name())"
   ]
  },
  {
   "cell_type": "markdown",
   "metadata": {},
   "source": [
    "# Data Augmentation"
   ]
  },
  {
   "cell_type": "code",
   "execution_count": 7,
   "metadata": {
    "ExecuteTime": {
     "end_time": "2019-08-12T18:20:08.827865Z",
     "start_time": "2019-08-12T18:20:08.824091Z"
    },
    "code_folding": []
   },
   "outputs": [],
   "source": [
    "# data augmentation methods in data_augmentation_utility.py\n",
    "\n",
    "# choose augmentation in load_data_utility.py"
   ]
  },
  {
   "cell_type": "markdown",
   "metadata": {},
   "source": [
    "# ConvNet"
   ]
  },
  {
   "cell_type": "markdown",
   "metadata": {},
   "source": [
    "## ConvNet Architecture"
   ]
  },
  {
   "cell_type": "code",
   "execution_count": 2,
   "metadata": {
    "ExecuteTime": {
     "end_time": "2019-08-15T17:54:04.519624Z",
     "start_time": "2019-08-15T17:54:04.391085Z"
    },
    "code_folding": [],
    "lang": "en"
   },
   "outputs": [],
   "source": [
    "num_classes = 3\n",
    "\n",
    "# ResNet-10 architecture\n",
    "def convnet_network(x, conv_kernels=[10,7,3], num_channels=8, n_classes=num_classes, reuse = False, is_training = True):\n",
    "    with tf.variable_scope('ConvNet', reuse = reuse), tf.device(gpu):\n",
    "        \n",
    "        x = tf.reshape(x, shape=[-1, 512, 512, 1])\n",
    "        # channels\n",
    "        \n",
    "        filtered_images = []\n",
    "        \n",
    "        filtered_images.append(tf.identity(x))\n",
    "        \n",
    "        counter = 0\n",
    "        for kernel in conv_kernels:\n",
    "        \n",
    "            x = model_arch.conv(x, num_channels, kernel=kernel, stride=2, padding='SAME', scope='conv_' + str(counter))\n",
    "            x = model_arch.relu(x)\n",
    "            \n",
    "#             x = model_arch.max_pooling(x)\n",
    "            \n",
    "            x = model_arch.batch_norm(x, is_training, scope='batch_norm_' + str(counter))\n",
    "            \n",
    "            filtered_images.append(tf.identity(x))\n",
    "            \n",
    "            counter = counter + 1\n",
    "            num_channels = num_channels * 2\n",
    " \n",
    "        x_pre_flatten = tf.identity(x)\n",
    "        \n",
    "        x = model_arch.fully_connected(x, num_classes)\n",
    "        \n",
    "        return x, x_pre_flatten, filtered_images\n",
    "\n",
    "    \n",
    "def convnet_model_fn(features, labels, mode, conv_kernels=[10,7,3], num_channels=8, snnl_weight=0.05,\n",
    "                      log=True):\n",
    "    with tf.device(gpu):\n",
    "\n",
    "        print(\"in gpu part\")\n",
    "        logits_train, activ_maps_train, filtered_images = convnet_network(features,\n",
    "                                                                          conv_kernels=conv_kernels,\n",
    "                                                                          num_channels=num_channels,\n",
    "                                                                          n_classes=num_classes,\n",
    "                                                                          reuse=False,\n",
    "                                                                          is_training=True)\n",
    "        \n",
    "        logits_test, activ_maps_test, _ = convnet_network(features,\n",
    "                                                          conv_kernels=conv_kernels,\n",
    "                                                          num_channels=num_channels,\n",
    "                                                          n_classes=num_classes,\n",
    "                                                          reuse=False,\n",
    "                                                          is_training=True)\n",
    "\n",
    "\n",
    "        pred_classes = tf.arg_max(logits_test, dimension=1)\n",
    "\n",
    "        # PREDICT MODE\n",
    "        if mode == tf.estimator.ModeKeys.PREDICT:\n",
    "\n",
    "            return tf.estimator.EstimatorSpec(mode=mode, predictions=pred_classes)\n",
    "\n",
    "\n",
    "        loss_op = tf.reduce_mean(\n",
    "            tf.nn.sparse_softmax_cross_entropy_with_logits(logits=logits_train, labels=tf.cast(labels, dtype=tf.int32)))\n",
    "\n",
    "        loss_op = (1.0 - snnl_weight) * loss_op + snnl_weight * SNNLCrossEntropy.optimized_temp_SNNL(\n",
    "            model_arch.flatten(activ_maps_train), labels, 20.0, True)\n",
    "        \n",
    "        acc_op = tf.metrics.accuracy(labels=labels, predictions=pred_classes)\n",
    "\n",
    "        optimizer = tf.train.AdamOptimizer(learning_rate=learning_rate)\n",
    "        train_op = optimizer.minimize(loss_op, global_step=tf.train.get_global_step())\n",
    "        \n",
    "        if (not log):\n",
    "            tf.summary.scalar(\"loss\", loss_op)\n",
    "            tf.summary.scalar(\"accuracy\", acc_op[1])\n",
    "        \n",
    "        if mode == tf.estimator.ModeKeys.TRAIN:\n",
    "                \n",
    "\n",
    "            # the different ops for training, evaluating, ...\n",
    "            estim_specs = tf.estimator.EstimatorSpec(\n",
    "                mode=mode,\n",
    "                predictions=pred_classes,\n",
    "                loss=loss_op,\n",
    "                train_op=train_op,\n",
    "                eval_metric_ops={'accuracy': acc_op}\n",
    "            )\n",
    "\n",
    "            return estim_specs\n",
    "    \n",
    "#     for var in tf.trainable_variables():\n",
    "#         print(var.name)\n",
    "\n",
    "        if (log):\n",
    "\n",
    "#             conv0_weights = [v for v in tf.global_variables() if v.name == \"Resnet-10/conv_0/conv2d/kernel:0\"][0]\n",
    "\n",
    "#             plot_op_expanded = tf.expand_dims(log_util.plot_conv_weights(conv0_weights), 0)\n",
    "#             tf.summary.image(\"conv_0_weight_plots\", plot_op_expanded)\n",
    "\n",
    "\n",
    "            with tf.name_scope(\"activation_maps\"):\n",
    "\n",
    "                counter = 0\n",
    "\n",
    "                plot_ops = []\n",
    "\n",
    "                for filtered_im in filtered_images:\n",
    "\n",
    "                    name = \"after_conv_\" + str(counter)\n",
    "                    if counter == 0:\n",
    "                        name = \"original_image:\"\n",
    "                    \n",
    "                    activation_map = tf.slice(filtered_im,[0, 0, 0, 0],[1, -1, -1, -1])\n",
    "                    activation_op = tf.expand_dims(log_util.plot_conv_output(activation_map, name), 0)\n",
    "\n",
    "                    plot_ops.append(activation_op)\n",
    "\n",
    "                    counter = counter + 1\n",
    "\n",
    "                final_log_op = tf.concat(plot_ops, 2)\n",
    "\n",
    "                tf.summary.image(\"image_display\", final_log_op)\n",
    "        \n",
    "        eval_summary_hook = tf.train.SummarySaverHook(\n",
    "            save_steps=1,\n",
    "            output_dir=model_path + \"/eval_images\",\n",
    "            summary_op=tf.summary.merge_all())\n",
    "        # Add it to the evaluation_hook list\n",
    "        evaluation_hooks = []\n",
    "        evaluation_hooks.append(eval_summary_hook)\n",
    "\n",
    "        # the different ops for training, evaluating, ...\n",
    "        estim_specs = tf.estimator.EstimatorSpec(\n",
    "            mode=mode,\n",
    "            loss=loss_op,\n",
    "            train_op=train_op,\n",
    "            eval_metric_ops={'accuracy': acc_op},\n",
    "            evaluation_hooks=evaluation_hooks\n",
    "        )\n",
    "\n",
    "        return estim_specs"
   ]
  },
  {
   "cell_type": "markdown",
   "metadata": {},
   "source": [
    "# Running Results"
   ]
  },
  {
   "cell_type": "markdown",
   "metadata": {},
   "source": [
    "## Experimentation"
   ]
  },
  {
   "cell_type": "code",
   "execution_count": 8,
   "metadata": {
    "ExecuteTime": {
     "end_time": "2019-08-15T21:37:04.691441Z",
     "start_time": "2019-08-15T21:37:04.571327Z"
    },
    "scrolled": true
   },
   "outputs": [
    {
     "name": "stdout",
     "output_type": "stream",
     "text": [
      "./data/generated_splits/ali_relabeled_original/train/\n",
      "/data/jma/model/label_experiments/ali_relabeled_original/\n",
      "INFO:tensorflow:Using config: {'_model_dir': '/data/jma/model/label_experiments/ali_relabeled_original/', '_tf_random_seed': 777, '_save_summary_steps': 30, '_save_checkpoints_steps': None, '_save_checkpoints_secs': 30, '_session_config': gpu_options {\n",
      "  allow_growth: true\n",
      "}\n",
      "allow_soft_placement: true\n",
      ", '_keep_checkpoint_max': 5, '_keep_checkpoint_every_n_hours': 10000, '_log_step_count_steps': 20, '_train_distribute': None, '_device_fn': None, '_protocol': None, '_eval_distribute': None, '_experimental_distribute': None, '_service': None, '_cluster_spec': <tensorflow.python.training.server_lib.ClusterSpec object at 0x7f5498697358>, '_task_type': 'worker', '_task_id': 0, '_global_id_in_cluster': 0, '_master': '', '_evaluation_master': '', '_is_chief': True, '_num_ps_replicas': 0, '_num_worker_replicas': 1}\n",
      "INFO:tensorflow:Running training and evaluation locally (non-distributed).\n",
      "INFO:tensorflow:Start train and evaluate loop. The evaluate will happen after every checkpoint. Checkpoint frequency is determined based on RunConfig arguments: save_checkpoints_steps None or save_checkpoints_secs 30.\n",
      "INFO:tensorflow:Skipping training since max_steps has already saved.\n",
      "./data/generated_splits/peter_relabeled_original/train/\n",
      "/data/jma/model/label_experiments/peter_relabeled_original/\n",
      "INFO:tensorflow:Using config: {'_model_dir': '/data/jma/model/label_experiments/peter_relabeled_original/', '_tf_random_seed': 777, '_save_summary_steps': 30, '_save_checkpoints_steps': None, '_save_checkpoints_secs': 30, '_session_config': gpu_options {\n",
      "  allow_growth: true\n",
      "}\n",
      "allow_soft_placement: true\n",
      ", '_keep_checkpoint_max': 5, '_keep_checkpoint_every_n_hours': 10000, '_log_step_count_steps': 20, '_train_distribute': None, '_device_fn': None, '_protocol': None, '_eval_distribute': None, '_experimental_distribute': None, '_service': None, '_cluster_spec': <tensorflow.python.training.server_lib.ClusterSpec object at 0x7f53787a20f0>, '_task_type': 'worker', '_task_id': 0, '_global_id_in_cluster': 0, '_master': '', '_evaluation_master': '', '_is_chief': True, '_num_ps_replicas': 0, '_num_worker_replicas': 1}\n",
      "INFO:tensorflow:Running training and evaluation locally (non-distributed).\n",
      "INFO:tensorflow:Start train and evaluate loop. The evaluate will happen after every checkpoint. Checkpoint frequency is determined based on RunConfig arguments: save_checkpoints_steps None or save_checkpoints_secs 30.\n",
      "INFO:tensorflow:Skipping training since max_steps has already saved.\n",
      "./data/generated_splits/ali_relabeled_undersampled/train/\n",
      "/data/jma/model/label_experiments/ali_relabeled_undersampled/\n",
      "INFO:tensorflow:Using config: {'_model_dir': '/data/jma/model/label_experiments/ali_relabeled_undersampled/', '_tf_random_seed': 777, '_save_summary_steps': 30, '_save_checkpoints_steps': None, '_save_checkpoints_secs': 30, '_session_config': gpu_options {\n",
      "  allow_growth: true\n",
      "}\n",
      "allow_soft_placement: true\n",
      ", '_keep_checkpoint_max': 5, '_keep_checkpoint_every_n_hours': 10000, '_log_step_count_steps': 20, '_train_distribute': None, '_device_fn': None, '_protocol': None, '_eval_distribute': None, '_experimental_distribute': None, '_service': None, '_cluster_spec': <tensorflow.python.training.server_lib.ClusterSpec object at 0x7f54986978d0>, '_task_type': 'worker', '_task_id': 0, '_global_id_in_cluster': 0, '_master': '', '_evaluation_master': '', '_is_chief': True, '_num_ps_replicas': 0, '_num_worker_replicas': 1}\n",
      "INFO:tensorflow:Running training and evaluation locally (non-distributed).\n",
      "INFO:tensorflow:Start train and evaluate loop. The evaluate will happen after every checkpoint. Checkpoint frequency is determined based on RunConfig arguments: save_checkpoints_steps None or save_checkpoints_secs 30.\n",
      "INFO:tensorflow:Skipping training since max_steps has already saved.\n",
      "./data/generated_splits/peter_relabeled_undersampled/train/\n",
      "/data/jma/model/label_experiments/peter_relabeled_undersampled/\n",
      "INFO:tensorflow:Using config: {'_model_dir': '/data/jma/model/label_experiments/peter_relabeled_undersampled/', '_tf_random_seed': 777, '_save_summary_steps': 30, '_save_checkpoints_steps': None, '_save_checkpoints_secs': 30, '_session_config': gpu_options {\n",
      "  allow_growth: true\n",
      "}\n",
      "allow_soft_placement: true\n",
      ", '_keep_checkpoint_max': 5, '_keep_checkpoint_every_n_hours': 10000, '_log_step_count_steps': 20, '_train_distribute': None, '_device_fn': None, '_protocol': None, '_eval_distribute': None, '_experimental_distribute': None, '_service': None, '_cluster_spec': <tensorflow.python.training.server_lib.ClusterSpec object at 0x7f53387552e8>, '_task_type': 'worker', '_task_id': 0, '_global_id_in_cluster': 0, '_master': '', '_evaluation_master': '', '_is_chief': True, '_num_ps_replicas': 0, '_num_worker_replicas': 1}\n",
      "INFO:tensorflow:Running training and evaluation locally (non-distributed).\n",
      "INFO:tensorflow:Start train and evaluate loop. The evaluate will happen after every checkpoint. Checkpoint frequency is determined based on RunConfig arguments: save_checkpoints_steps None or save_checkpoints_secs 30.\n",
      "INFO:tensorflow:Skipping training since max_steps has already saved.\n"
     ]
    }
   ],
   "source": [
    "tf.logging.set_verbosity(tf.logging.INFO)\n",
    "tf.summary.FileWriterCache.clear()\n",
    "b_size = 32\n",
    "\n",
    "learning_rate = 0.001\n",
    "\n",
    "random_seed = 777\n",
    "\n",
    "random.seed(a=random_seed)\n",
    "\n",
    "num_steps = 10000\n",
    "\n",
    "# convnet_checkpoint_path_base = \"/data/jma/model/dataset_experiments/no_data_aug_no_norm/\"\n",
    "\n",
    "convnet_checkpoint_path_base = \"/data/jma/model/label_experiments/\"\n",
    "\n",
    "# kernel_sizes = [7, 9, 10, 11, 13]\n",
    "# filter_sizes = [10]\n",
    "# snnl_weights = [0.0]\n",
    "\n",
    "# kernel_sizes = [[10, 7, 3]] v1\n",
    "\n",
    "kernel_sizes = [[10, 7, 3]]\n",
    "filter_sizes = [8]\n",
    "snnl_weights = [0.00]\n",
    "\n",
    "# data_root = \"./data/data_relabeled_png_synthetic/\"\n",
    "\n",
    "# image_paths = load_data_util.load_image_paths(data_root)\n",
    "# train_paths, eval_paths, test_paths = load_data_util.split(image_paths, seed=random_seed, split=[0.7, 0.1, 0.2])\n",
    "\n",
    "# train_input_fn = lambda : load_data_util.load(data_root, train_paths, training=True, augment=False, batch_size=32, shuffle=False)\n",
    "# eval_input_fn = lambda : load_data_util.load(data_root, eval_paths, training=False, augment=False, batch_size=32, shuffle=False)\n",
    "# test_input_fn = lambda : load_data_util.load(data_root, test_paths, training=False, augment=False, shuffle=False)\n",
    "\n",
    "\n",
    "dataset_root = \"./data/generated_splits/\"\n",
    "\n",
    "sets = [\"ali_relabeled_original\", \"peter_relabeled_original\", \"ali_relabeled_undersampled\", \"peter_relabeled_undersampled\"]\n",
    "\n",
    "\n",
    "for dt_set in sets:\n",
    "    for filter_size in filter_sizes:\n",
    "        for kernel_size in kernel_sizes:\n",
    "\n",
    "            for snnl_weight in snnl_weights:\n",
    "\n",
    "                train_root = dataset_root + dt_set + \"/train/\"\n",
    "                eval_root = dataset_root + dt_set + \"/eval/\"\n",
    "               \n",
    "                train_paths = load_data_util.load_image_paths(train_root)\n",
    "                random.shuffle(train_paths)\n",
    "\n",
    "                print(train_root)\n",
    "                \n",
    "                eval_paths = load_data_util.load_image_paths(eval_root)\n",
    "                \n",
    "                train_input_fn = lambda : load_data_util.load(train_root, train_paths, training=True, augment=False, batch_size=32, norm=False, shuffle=False)\n",
    "                eval_input_fn = lambda : load_data_util.load(eval_root, eval_paths, training=False, augment=False, batch_size=32, norm=False, shuffle=False)\n",
    "\n",
    "\n",
    "                model_path = convnet_checkpoint_path_base + dt_set + \"/\"\n",
    "                print(model_path)\n",
    "\n",
    "                config = tf.estimator.RunConfig(\n",
    "                    log_step_count_steps= 20,\n",
    "                    save_summary_steps= 30,\n",
    "                    save_checkpoints_secs= 30,\n",
    "                    model_dir=model_path,\n",
    "                    tf_random_seed=random_seed,\n",
    "                    session_config=session_config)\n",
    "\n",
    "                model_fn = lambda features, labels, mode: convnet_model_fn(features, labels, mode, \n",
    "                                                                            conv_kernels=kernel_size, \n",
    "                                                                             num_channels=filter_size,\n",
    "                                                                            snnl_weight=snnl_weight,\n",
    "                                                                            log=False)\n",
    "\n",
    "                model = tf.estimator.Estimator(model_fn=model_fn, config=config)\n",
    "\n",
    "                train_spec = tf.estimator.TrainSpec(input_fn=train_input_fn, max_steps=num_steps)\n",
    "                eval_spec = tf.estimator.EvalSpec(input_fn=eval_input_fn, throttle_secs=30)\n",
    "\n",
    "                tf.estimator.train_and_evaluate(model, train_spec, eval_spec)\n",
    "\n",
    "        "
   ]
  },
  {
   "cell_type": "markdown",
   "metadata": {
    "heading_collapsed": true
   },
   "source": [
    "## Evaluation"
   ]
  },
  {
   "cell_type": "code",
   "execution_count": 3,
   "metadata": {
    "ExecuteTime": {
     "end_time": "2019-08-09T00:41:02.896671Z",
     "start_time": "2019-08-09T00:40:49.120222Z"
    },
    "hidden": true
   },
   "outputs": [
    {
     "name": "stdout",
     "output_type": "stream",
     "text": [
      "/data/jma/model/dataset_experiments/no_data_aug/original_new_labels/\n",
      "INFO:tensorflow:Using default config.\n",
      "INFO:tensorflow:Using config: {'_model_dir': '/data/jma/model/dataset_experiments/no_data_aug/original_new_labels/', '_tf_random_seed': None, '_save_summary_steps': 100, '_save_checkpoints_steps': None, '_save_checkpoints_secs': 600, '_session_config': allow_soft_placement: true\n",
      "graph_options {\n",
      "  rewrite_options {\n",
      "    meta_optimizer_iterations: ONE\n",
      "  }\n",
      "}\n",
      ", '_keep_checkpoint_max': 5, '_keep_checkpoint_every_n_hours': 10000, '_log_step_count_steps': 100, '_train_distribute': None, '_device_fn': None, '_protocol': None, '_eval_distribute': None, '_experimental_distribute': None, '_service': None, '_cluster_spec': <tensorflow.python.training.server_lib.ClusterSpec object at 0x7fdd5fe1d438>, '_task_type': 'worker', '_task_id': 0, '_global_id_in_cluster': 0, '_master': '', '_evaluation_master': '', '_is_chief': True, '_num_ps_replicas': 0, '_num_worker_replicas': 1}\n",
      "INFO:tensorflow:Calling model_fn.\n",
      "in gpu part\n",
      "WARNING:tensorflow:From <ipython-input-2-af1b053e6647>:56: arg_max (from tensorflow.python.ops.gen_math_ops) is deprecated and will be removed in a future version.\n",
      "Instructions for updating:\n",
      "Use `argmax` instead\n",
      "WARNING:tensorflow:From /home_local/jma/.local/lib/python3.6/site-packages/cleverhans/loss.py:402: calling l2_normalize (from tensorflow.python.ops.nn_impl) with dim is deprecated and will be removed in a future version.\n",
      "Instructions for updating:\n",
      "dim is deprecated, use axis instead\n",
      "INFO:tensorflow:Done calling model_fn.\n",
      "INFO:tensorflow:Starting evaluation at 2019-08-09-00:40:50\n",
      "INFO:tensorflow:Graph was finalized.\n",
      "INFO:tensorflow:Restoring parameters from /data/jma/model/dataset_experiments/no_data_aug/original_new_labels/model.ckpt-10000\n",
      "INFO:tensorflow:Running local_init_op.\n",
      "INFO:tensorflow:Done running local_init_op.\n",
      "0.0\n",
      "1.0\n",
      "0.0\n",
      "1.0\n",
      "0.0\n",
      "1.0\n",
      "0.0\n",
      "1.0\n",
      "0.0\n",
      "1.0\n",
      "0.00.0\n",
      "1.0\n",
      "0.0\n",
      "1.0\n",
      "\n",
      "1.0\n",
      "INFO:tensorflow:Finished evaluation at 2019-08-09-00:41:02\n",
      "INFO:tensorflow:Saving dict for global step 10000: accuracy = 0.5, global_step = 10000, loss = nan\n",
      "INFO:tensorflow:Saving 'checkpoint_path' summary for global step 10000: /data/jma/model/dataset_experiments/no_data_aug/original_new_labels/model.ckpt-10000\n"
     ]
    }
   ],
   "source": [
    "tf.logging.set_verbosity(tf.logging.INFO)\n",
    "\n",
    "b_size = 32\n",
    "\n",
    "learning_rate = 0.005\n",
    "\n",
    "random_seed = 777\n",
    "\n",
    "num_steps = 20000\n",
    "\n",
    "convnet_checkpoint_path_base = \"/data/jma/model/dataset_experiments/no_norm_no_data_aug/\"\n",
    "\n",
    "# kernel_sizes = [7, 9, 10, 11, 13]\n",
    "# filter_sizes = [10]\n",
    "# snnl_weights = [0.0]\n",
    "\n",
    "kernel_sizes = [[10, 7, 3]]\n",
    "filter_sizes = [8]\n",
    "snnl_weights = [0.0]\n",
    "\n",
    "# data_root = \"./data/custom_activation_map_data/\"\n",
    "\n",
    "data_root = \"./data/custom_activation_map_data/\"\n",
    "\n",
    "image_paths = load_data_util.load_image_paths(data_root)\n",
    "\n",
    "eval_input_fn = lambda : load_data_util.load(data_root, image_paths, training=False, augment=False, batch_size=1, shuffle=False)\n",
    "\n",
    "\n",
    "for filter_size in filter_sizes:\n",
    "    for kernel_size in kernel_sizes:\n",
    "        \n",
    "        for snnl_weight in snnl_weights:\n",
    "            tf.summary.FileWriterCache.clear()\n",
    " \n",
    "            model_path = convnet_checkpoint_path_base + \"original_new_labels/\"\n",
    "            print(model_path)\n",
    "\n",
    "            model_fn = lambda features, labels, mode: convnet_model_fn(features, labels, mode, \n",
    "                                                                        conv_kernels=kernel_size, \n",
    "                                                                        num_channels=filter_size,\n",
    "                                                                        snnl_weight=snnl_weight,\n",
    "                                                                        log=True)\n",
    "\n",
    "            model = tf.estimator.Estimator(model_fn=model_fn, model_dir=model_path)\n",
    "\n",
    "            model.evaluate(eval_input_fn)\n",
    "              "
   ]
  },
  {
   "cell_type": "code",
   "execution_count": null,
   "metadata": {
    "hidden": true
   },
   "outputs": [],
   "source": []
  },
  {
   "cell_type": "markdown",
   "metadata": {},
   "source": [
    "# Metrics"
   ]
  },
  {
   "cell_type": "markdown",
   "metadata": {},
   "source": [
    "## Metric Utility Functions"
   ]
  },
  {
   "cell_type": "code",
   "execution_count": 15,
   "metadata": {
    "ExecuteTime": {
     "end_time": "2019-08-15T21:45:18.293013Z",
     "start_time": "2019-08-15T21:45:18.276594Z"
    }
   },
   "outputs": [],
   "source": [
    "def path_to_label(paths, data_root):\n",
    "\n",
    "    print(data_root)\n",
    "    \n",
    "    data_root = pathlib.Path(data_root)\n",
    "\n",
    "    \n",
    "    \n",
    "    # return label names\n",
    "    label_names = sorted(item.name for item in data_root.glob('*/') if item.is_dir())\n",
    "    \n",
    "    # assign index to label\n",
    "    \n",
    "    label_to_index = dict((name, index) for index,name in enumerate(label_names))\n",
    "\n",
    "    print(label_to_index)\n",
    "    \n",
    "    # array of all labels corresponding to image_paths\n",
    "    all_image_labels = [label_to_index[pathlib.Path(path).parent.name]\n",
    "                        for path in paths]\n",
    "    \n",
    "    return all_image_labels\n",
    "\n"
   ]
  },
  {
   "cell_type": "markdown",
   "metadata": {},
   "source": [
    "## Confusion Matrices"
   ]
  },
  {
   "cell_type": "code",
   "execution_count": 17,
   "metadata": {
    "ExecuteTime": {
     "end_time": "2019-08-15T21:46:20.882566Z",
     "start_time": "2019-08-15T21:46:12.989882Z"
    },
    "scrolled": false
   },
   "outputs": [
    {
     "name": "stdout",
     "output_type": "stream",
     "text": [
      "./data/generated_splits/ali_relabeled_original/eval/\n",
      "['data/generated_splits/ali_relabeled_original/eval/1/IM-0040-0029-0001.dcm.png', 'data/generated_splits/ali_relabeled_original/eval/1/IM-0052-0028-0001.dcm.png', 'data/generated_splits/ali_relabeled_original/eval/1/IM-0019-0003-0001.dcm.png', 'data/generated_splits/ali_relabeled_original/eval/1/IM-0063-0024-0001.dcm.png', 'data/generated_splits/ali_relabeled_original/eval/1/IM-0051-0026-0001.dcm.png']\n",
      "/data/jma/model/label_experiments/ali_relabeled_original/\n",
      "INFO:tensorflow:Using default config.\n",
      "INFO:tensorflow:Using config: {'_model_dir': '/data/jma/model/label_experiments/ali_relabeled_original/', '_tf_random_seed': None, '_save_summary_steps': 100, '_save_checkpoints_steps': None, '_save_checkpoints_secs': 600, '_session_config': allow_soft_placement: true\n",
      "graph_options {\n",
      "  rewrite_options {\n",
      "    meta_optimizer_iterations: ONE\n",
      "  }\n",
      "}\n",
      ", '_keep_checkpoint_max': 5, '_keep_checkpoint_every_n_hours': 10000, '_log_step_count_steps': 100, '_train_distribute': None, '_device_fn': None, '_protocol': None, '_eval_distribute': None, '_experimental_distribute': None, '_service': None, '_cluster_spec': <tensorflow.python.training.server_lib.ClusterSpec object at 0x7f564cbfb710>, '_task_type': 'worker', '_task_id': 0, '_global_id_in_cluster': 0, '_master': '', '_evaluation_master': '', '_is_chief': True, '_num_ps_replicas': 0, '_num_worker_replicas': 1}\n",
      "./data/generated_splits/ali_relabeled_original/eval/\n",
      "{'0': 0, '1': 1, '2': 2}\n",
      "INFO:tensorflow:Calling model_fn.\n",
      "in gpu part\n",
      "INFO:tensorflow:Done calling model_fn.\n",
      "INFO:tensorflow:Graph was finalized.\n",
      "INFO:tensorflow:Restoring parameters from /data/jma/model/label_experiments/ali_relabeled_original/model.ckpt-10000\n",
      "INFO:tensorflow:Running local_init_op.\n",
      "INFO:tensorflow:Done running local_init_op.\n"
     ]
    },
    {
     "data": {
      "image/png": "[encoded data removed]",
      "text/plain": [
       "<Figure size 432x288 with 2 Axes>"
      ]
     },
     "metadata": {},
     "output_type": "display_data"
    },
    {
     "name": "stdout",
     "output_type": "stream",
     "text": [
      "./data/generated_splits/peter_relabeled_original/eval/\n",
      "['data/generated_splits/peter_relabeled_original/eval/1/IM-0010-0002-0001.dcm.png', 'data/generated_splits/peter_relabeled_original/eval/1/IM-0008-0003-0001.dcm.png', 'data/generated_splits/peter_relabeled_original/eval/1/IM-0019-0003-0001.dcm.png', 'data/generated_splits/peter_relabeled_original/eval/1/IM-0065-0029-0001.dcm.png', 'data/generated_splits/peter_relabeled_original/eval/1/IM-0024-0005-0001.dcm.png']\n",
      "/data/jma/model/label_experiments/peter_relabeled_original/\n",
      "INFO:tensorflow:Using default config.\n",
      "INFO:tensorflow:Using config: {'_model_dir': '/data/jma/model/label_experiments/peter_relabeled_original/', '_tf_random_seed': None, '_save_summary_steps': 100, '_save_checkpoints_steps': None, '_save_checkpoints_secs': 600, '_session_config': allow_soft_placement: true\n",
      "graph_options {\n",
      "  rewrite_options {\n",
      "    meta_optimizer_iterations: ONE\n",
      "  }\n",
      "}\n",
      ", '_keep_checkpoint_max': 5, '_keep_checkpoint_every_n_hours': 10000, '_log_step_count_steps': 100, '_train_distribute': None, '_device_fn': None, '_protocol': None, '_eval_distribute': None, '_experimental_distribute': None, '_service': None, '_cluster_spec': <tensorflow.python.training.server_lib.ClusterSpec object at 0x7f564c3fdf60>, '_task_type': 'worker', '_task_id': 0, '_global_id_in_cluster': 0, '_master': '', '_evaluation_master': '', '_is_chief': True, '_num_ps_replicas': 0, '_num_worker_replicas': 1}\n",
      "./data/generated_splits/peter_relabeled_original/eval/\n",
      "{'0': 0, '1': 1, '2': 2}\n",
      "INFO:tensorflow:Calling model_fn.\n",
      "in gpu part\n",
      "INFO:tensorflow:Done calling model_fn.\n",
      "INFO:tensorflow:Graph was finalized.\n",
      "INFO:tensorflow:Restoring parameters from /data/jma/model/label_experiments/peter_relabeled_original/model.ckpt-10000\n",
      "INFO:tensorflow:Running local_init_op.\n",
      "INFO:tensorflow:Done running local_init_op.\n"
     ]
    },
    {
     "data": {
      "image/png": "[encoded data removed]",
      "text/plain": [
       "<Figure size 432x288 with 2 Axes>"
      ]
     },
     "metadata": {},
     "output_type": "display_data"
    },
    {
     "name": "stdout",
     "output_type": "stream",
     "text": [
      "./data/generated_splits/ali_relabeled_undersampled/eval/\n",
      "['data/generated_splits/ali_relabeled_undersampled/eval/1/IM-0040-0029-0001.dcm.png', 'data/generated_splits/ali_relabeled_undersampled/eval/1/IM-0052-0028-0001.dcm.png', 'data/generated_splits/ali_relabeled_undersampled/eval/1/IM-0019-0003-0001.dcm.png', 'data/generated_splits/ali_relabeled_undersampled/eval/1/IM-0063-0024-0001.dcm.png', 'data/generated_splits/ali_relabeled_undersampled/eval/1/IM-0051-0026-0001.dcm.png']\n",
      "/data/jma/model/label_experiments/ali_relabeled_undersampled/\n",
      "INFO:tensorflow:Using default config.\n",
      "INFO:tensorflow:Using config: {'_model_dir': '/data/jma/model/label_experiments/ali_relabeled_undersampled/', '_tf_random_seed': None, '_save_summary_steps': 100, '_save_checkpoints_steps': None, '_save_checkpoints_secs': 600, '_session_config': allow_soft_placement: true\n",
      "graph_options {\n",
      "  rewrite_options {\n",
      "    meta_optimizer_iterations: ONE\n",
      "  }\n",
      "}\n",
      ", '_keep_checkpoint_max': 5, '_keep_checkpoint_every_n_hours': 10000, '_log_step_count_steps': 100, '_train_distribute': None, '_device_fn': None, '_protocol': None, '_eval_distribute': None, '_experimental_distribute': None, '_service': None, '_cluster_spec': <tensorflow.python.training.server_lib.ClusterSpec object at 0x7f51e1acc278>, '_task_type': 'worker', '_task_id': 0, '_global_id_in_cluster': 0, '_master': '', '_evaluation_master': '', '_is_chief': True, '_num_ps_replicas': 0, '_num_worker_replicas': 1}\n",
      "./data/generated_splits/ali_relabeled_undersampled/eval/\n",
      "{'0': 0, '1': 1, '2': 2}\n",
      "INFO:tensorflow:Calling model_fn.\n",
      "in gpu part\n",
      "INFO:tensorflow:Done calling model_fn.\n",
      "INFO:tensorflow:Graph was finalized.\n",
      "INFO:tensorflow:Restoring parameters from /data/jma/model/label_experiments/ali_relabeled_undersampled/model.ckpt-10000\n",
      "INFO:tensorflow:Running local_init_op.\n",
      "INFO:tensorflow:Done running local_init_op.\n"
     ]
    },
    {
     "data": {
      "image/png": "[encoded data removed]",
      "text/plain": [
       "<Figure size 432x288 with 2 Axes>"
      ]
     },
     "metadata": {},
     "output_type": "display_data"
    },
    {
     "name": "stdout",
     "output_type": "stream",
     "text": [
      "./data/generated_splits/peter_relabeled_undersampled/eval/\n",
      "['data/generated_splits/peter_relabeled_undersampled/eval/1/IM-0010-0002-0001.dcm.png', 'data/generated_splits/peter_relabeled_undersampled/eval/1/IM-0008-0003-0001.dcm.png', 'data/generated_splits/peter_relabeled_undersampled/eval/1/IM-0019-0003-0001.dcm.png', 'data/generated_splits/peter_relabeled_undersampled/eval/1/IM-0065-0029-0001.dcm.png', 'data/generated_splits/peter_relabeled_undersampled/eval/1/IM-0024-0005-0001.dcm.png']\n",
      "/data/jma/model/label_experiments/peter_relabeled_undersampled/\n",
      "INFO:tensorflow:Using default config.\n",
      "INFO:tensorflow:Using config: {'_model_dir': '/data/jma/model/label_experiments/peter_relabeled_undersampled/', '_tf_random_seed': None, '_save_summary_steps': 100, '_save_checkpoints_steps': None, '_save_checkpoints_secs': 600, '_session_config': allow_soft_placement: true\n",
      "graph_options {\n",
      "  rewrite_options {\n",
      "    meta_optimizer_iterations: ONE\n",
      "  }\n",
      "}\n",
      ", '_keep_checkpoint_max': 5, '_keep_checkpoint_every_n_hours': 10000, '_log_step_count_steps': 100, '_train_distribute': None, '_device_fn': None, '_protocol': None, '_eval_distribute': None, '_experimental_distribute': None, '_service': None, '_cluster_spec': <tensorflow.python.training.server_lib.ClusterSpec object at 0x7f5338755fd0>, '_task_type': 'worker', '_task_id': 0, '_global_id_in_cluster': 0, '_master': '', '_evaluation_master': '', '_is_chief': True, '_num_ps_replicas': 0, '_num_worker_replicas': 1}\n",
      "./data/generated_splits/peter_relabeled_undersampled/eval/\n",
      "{'0': 0, '1': 1, '2': 2}\n",
      "INFO:tensorflow:Calling model_fn.\n",
      "in gpu part\n",
      "INFO:tensorflow:Done calling model_fn.\n",
      "INFO:tensorflow:Graph was finalized.\n",
      "INFO:tensorflow:Restoring parameters from /data/jma/model/label_experiments/peter_relabeled_undersampled/model.ckpt-10000\n",
      "INFO:tensorflow:Running local_init_op.\n",
      "INFO:tensorflow:Done running local_init_op.\n"
     ]
    },
    {
     "data": {
      "image/png": "[encoded data removed]",
      "text/plain": [
       "<Figure size 432x288 with 2 Axes>"
      ]
     },
     "metadata": {},
     "output_type": "display_data"
    }
   ],
   "source": [
    "%matplotlib inline\n",
    "\n",
    "import sklearn\n",
    "\n",
    "tf.logging.set_verbosity(tf.logging.FATAL)\n",
    "\n",
    "import seaborn as sns\n",
    "import pandas as pd\n",
    "import matplotlib.pyplot as plt\n",
    "\n",
    "\n",
    "tf.summary.FileWriterCache.clear()\n",
    "b_size = 32\n",
    "\n",
    "\n",
    "random_seed = 777\n",
    "\n",
    "convnet_checkpoint_path_base = \"/data/jma/model/label_experiments/\"\n",
    "\n",
    "\n",
    "# kernel_sizes = [7, 9, 10, 11, 13]\n",
    "# filter_sizes = [10]\n",
    "# snnl_weights = [0.0]\n",
    "\n",
    "kernel_sizes = [[10, 7, 3]]\n",
    "filter_sizes = [8]\n",
    "snnl_weights = [0.00]\n",
    "\n",
    "# data_root = \"./data/data_relabeled_png_synthetic/\"\n",
    "\n",
    "# image_paths = load_data_util.load_image_paths(data_root)\n",
    "# train_paths, eval_paths, test_paths = load_data_util.split(image_paths, seed=random_seed, split=[0.7, 0.1, 0.2])\n",
    "\n",
    "# train_input_fn = lambda : load_data_util.load(data_root, train_paths, training=True, augment=False, batch_size=32, shuffle=False)\n",
    "# eval_input_fn = lambda : load_data_util.load(data_root, eval_paths, training=False, augment=False, batch_size=32, shuffle=False)\n",
    "# test_input_fn = lambda : load_data_util.load(data_root, test_paths, training=False, augment=False, shuffle=False)\n",
    "\n",
    "\n",
    "dataset_root = \"./data/generated_splits/\"\n",
    "\n",
    "sets = [\"ali_relabeled_original\", \n",
    "        \"peter_relabeled_original\", \n",
    "        \"ali_relabeled_undersampled\", \n",
    "        \"peter_relabeled_undersampled\"]\n",
    "\n",
    "\n",
    "for dt_set in sets:\n",
    "    for filter_size in filter_sizes:\n",
    "        for kernel_size in kernel_sizes:\n",
    "\n",
    "            for snnl_weight in snnl_weights:\n",
    "                \n",
    "                tf.logging.set_verbosity(tf.logging.INFO)\n",
    "                \n",
    "                eval_root = dataset_root + dt_set + \"/eval/\"\n",
    "                   \n",
    "                print(eval_root)\n",
    "            \n",
    "                eval_paths = load_data_util.load_image_paths(eval_root)\n",
    "                \n",
    "                print(eval_paths[:5])\n",
    "                \n",
    "                eval_input_fn = lambda : load_data_util.load(eval_root, eval_paths, training=False, augment=False, batch_size=32, shuffle=False)\n",
    "\n",
    "\n",
    "                model_path = convnet_checkpoint_path_base + dt_set +\"/\"\n",
    "                print(model_path)\n",
    "\n",
    "\n",
    "                model_fn = lambda features, labels, mode: convnet_model_fn(features, labels, mode, \n",
    "                                                                            conv_kernels=kernel_size, \n",
    "                                                                            num_channels=filter_size)\n",
    "                model = tf.estimator.Estimator(model_fn=model_fn, model_dir=model_path)\n",
    "\n",
    "                values = model.predict(eval_input_fn)\n",
    "\n",
    "\n",
    "                original_labels = path_to_label(eval_paths, eval_root)\n",
    "                predicted_labels = list(values)\n",
    "\n",
    "                \n",
    "                accuracy = sklearn.metrics.accuracy_score(original_labels, predicted_labels)\n",
    "                \n",
    "                cm = tf.confusion_matrix(original_labels, predicted_labels)\n",
    "                cm = tf.to_float(cm)\n",
    "\n",
    "                cm = cm.numpy()\n",
    "\n",
    "                row_sums = cm.sum(axis=1)\n",
    "                cm = cm / row_sums[:, np.newaxis]\n",
    "\n",
    "                df_cm = pd.DataFrame(cm, range(3), range(3))\n",
    "                #plt.figure(figsize = (10,7))\n",
    "                \n",
    "                sns.set(font_scale=1)#for label size\n",
    "                plt.suptitle(dt_set + \" (acc: \" + str('%.3f'%(accuracy)) + \")\")\n",
    "                ax = sns.heatmap(df_cm, annot=True,annot_kws={\"size\": 16}, vmin=0, vmax=1.0)# font size\n",
    "                ax.set(xlabel='predicted', ylabel='true')\n",
    "                plt.show()\n",
    "        "
   ]
  },
  {
   "cell_type": "markdown",
   "metadata": {},
   "source": [
    "## Incorrectly Classified Images (PNG Format)"
   ]
  },
  {
   "cell_type": "code",
   "execution_count": null,
   "metadata": {
    "ExecuteTime": {
     "start_time": "2019-08-01T06:27:14.823Z"
    },
    "scrolled": false
   },
   "outputs": [
    {
     "name": "stdout",
     "output_type": "stream",
     "text": [
      "/data/jma/model/relabeled_data/resnet4/kernel5_filter8_snnl0.0/\n",
      "in gpu part\n"
     ]
    },
    {
     "data": {
      "image/png": "[encoded data removed]",
      "text/plain": [
       "<PIL.Image.Image image mode=L size=256x256 at 0x7F3E6500FF98>"
      ]
     },
     "metadata": {},
     "output_type": "display_data"
    }
   ],
   "source": [
    "%matplotlib inline\n",
    "\n",
    "tf.logging.set_verbosity(tf.logging.ERROR)\n",
    "\n",
    "import seaborn as sn\n",
    "import pandas as pd\n",
    "import matplotlib.pyplot as plt\n",
    "from PIL import Image, ImageDraw, ImageFont\n",
    "\n",
    "resnet10_checkpoint_path_base = \"/data/jma/model/relabeled_data/resnet4/\"\n",
    "\n",
    "data_path = \"./data/data_relabeled_png/\"\n",
    "\n",
    "image_paths = load_image_paths(data_path)\n",
    "train_paths, eval_paths, test_paths = split(image_paths, seed=random_seed)\n",
    "\n",
    "\n",
    "train_input_fn = lambda : load(data_path, train_paths, training=True)\n",
    "eval_input_fn = lambda : load(data_path, eval_paths, training=False)\n",
    "test_input_fn = lambda : load(data_path, test_paths, training=False)\n",
    "\n",
    "# change these======\n",
    "working_paths = eval_paths\n",
    "working_input_fn = eval_input_fn\n",
    "\n",
    "kernel_size=5\n",
    "filter_size=8\n",
    "snnl_weight=0.0\n",
    "#=========\n",
    "\n",
    "model_path = resnet10_checkpoint_path_base + \"kernel\" + str(kernel_size) + \"_filter\" + str(filter_size) + \"_snnl\" + str(snnl_weight) + \"/\"\n",
    "print(model_path)\n",
    "\n",
    "model_fn = lambda features, labels, mode: resnet4_model_fn(features, labels, mode, \n",
    "                                                            conv_kernel=kernel_size, \n",
    "                                                            num_channels=filter_size)\n",
    "model = tf.estimator.Estimator(model_fn=model_fn, model_dir=model_path)\n",
    "\n",
    "values = model.predict(working_input_fn)\n",
    "\n",
    "original_labels = path_to_label(working_paths, data_path)\n",
    "predicted_labels = list(values)\n",
    "\n",
    "# make a plot?\n",
    "\n",
    "for index in range(len(working_paths)):\n",
    "    if original_labels[index] != predicted_labels[index]:\n",
    "        # add image to plot\n",
    "\n",
    "        img = Image.open(working_paths[index])\n",
    "        \n",
    "        basewidth = 256\n",
    "\n",
    "        wpercent = (basewidth/float(img.size[0]))\n",
    "        hsize = int((float(img.size[1])*float(wpercent)))\n",
    "        img = img.resize((basewidth,hsize), Image.ANTIALIAS)\n",
    "\n",
    "        \n",
    "        d = ImageDraw.Draw(img)\n",
    "        \n",
    "        # debug this shit\n",
    "        d.text((10,10), \"True: \" + str(original_labels[index]) + \n",
    "               \", Pred: \" + str(predicted_labels[index]), \n",
    "               fill=\"white\", font=ImageFont.truetype(\"./fonts/arial-bold.ttf\", 15))       \n",
    "                \n",
    "        display(img)\n",
    "    "
   ]
  },
  {
   "cell_type": "code",
   "execution_count": null,
   "metadata": {},
   "outputs": [],
   "source": []
  }
 ],
 "metadata": {
  "hide_input": false,
  "kernelspec": {
   "display_name": "Python 3",
   "language": "python",
   "name": "python3"
  },
  "language_info": {
   "codemirror_mode": {
    "name": "ipython",
    "version": 3
   },
   "file_extension": ".py",
   "mimetype": "text/x-python",
   "name": "python",
   "nbconvert_exporter": "python",
   "pygments_lexer": "ipython3",
   "version": "3.6.7"
  },
  "latex_envs": {
   "LaTeX_envs_menu_present": true,
   "autoclose": false,
   "autocomplete": true,
   "bibliofile": "biblio.bib",
   "cite_by": "apalike",
   "current_citInitial": 1,
   "eqLabelWithNumbers": true,
   "eqNumInitial": 1,
   "hotkeys": {
    "equation": "Ctrl-E",
    "itemize": "Ctrl-I"
   },
   "labels_anchors": false,
   "latex_user_defs": false,
   "report_style_numbering": false,
   "user_envs_cfg": false
  },
  "nbTranslate": {
   "displayLangs": [
    "en"
   ],
   "hotkey": "alt-t",
   "langInMainMenu": true,
   "sourceLang": "en",
   "targetLang": "fr",
   "useGoogleTranslate": true
  },
  "toc": {
   "base_numbering": 1,
   "nav_menu": {},
   "number_sections": true,
   "sideBar": true,
   "skip_h1_title": false,
   "title_cell": "Table of Contents",
   "title_sidebar": "Contents",
   "toc_cell": false,
   "toc_position": {},
   "toc_section_display": true,
   "toc_window_display": false
  },
  "varInspector": {
   "cols": {
    "lenName": 16,
    "lenType": 16,
    "lenVar": 40
   },
   "kernels_config": {
    "python": {
     "delete_cmd_postfix": "",
     "delete_cmd_prefix": "del ",
     "library": "var_list.py",
     "varRefreshCmd": "print(var_dic_list())"
    },
    "r": {
     "delete_cmd_postfix": ") ",
     "delete_cmd_prefix": "rm(",
     "library": "var_list.r",
     "varRefreshCmd": "cat(var_dic_list()) "
    }
   },
   "types_to_exclude": [
    "module",
    "function",
    "builtin_function_or_method",
    "instance",
    "_Feature"
   ],
   "window_display": false
  }
 },
 "nbformat": 4,
 "nbformat_minor": 2
}
