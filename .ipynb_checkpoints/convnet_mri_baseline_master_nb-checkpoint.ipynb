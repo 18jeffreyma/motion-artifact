{
 "cells": [
  {
   "cell_type": "markdown",
   "metadata": {},
   "source": [
    "# Imports and General Settings"
   ]
  },
  {
   "cell_type": "code",
   "execution_count": 1,
   "metadata": {
    "ExecuteTime": {
     "end_time": "2019-08-06T21:51:55.726154Z",
     "start_time": "2019-08-06T21:51:51.094215Z"
    }
   },
   "outputs": [
    {
     "ename": "ModuleNotFoundError",
     "evalue": "No module named 'tfplot'",
     "output_type": "error",
     "traceback": [
      "\u001b[0;31m---------------------------------------------------------------------------\u001b[0m",
      "\u001b[0;31mModuleNotFoundError\u001b[0m                       Traceback (most recent call last)",
      "\u001b[0;32m<ipython-input-1-4434df2a6edb>\u001b[0m in \u001b[0;36m<module>\u001b[0;34m\u001b[0m\n\u001b[1;32m     12\u001b[0m \u001b[0;34m\u001b[0m\u001b[0m\n\u001b[1;32m     13\u001b[0m \u001b[0;32mimport\u001b[0m \u001b[0mpylab\u001b[0m\u001b[0;34m\u001b[0m\u001b[0;34m\u001b[0m\u001b[0m\n\u001b[0;32m---> 14\u001b[0;31m \u001b[0;32mimport\u001b[0m \u001b[0mtfplot\u001b[0m\u001b[0;34m\u001b[0m\u001b[0;34m\u001b[0m\u001b[0m\n\u001b[0m\u001b[1;32m     15\u001b[0m \u001b[0;34m\u001b[0m\u001b[0m\n\u001b[1;32m     16\u001b[0m \u001b[0;32mimport\u001b[0m \u001b[0mmatplotlib\u001b[0m\u001b[0;34m.\u001b[0m\u001b[0mpyplot\u001b[0m \u001b[0;32mas\u001b[0m \u001b[0mplt\u001b[0m\u001b[0;34m\u001b[0m\u001b[0;34m\u001b[0m\u001b[0m\n",
      "\u001b[0;31mModuleNotFoundError\u001b[0m: No module named 'tfplot'"
     ]
    }
   ],
   "source": [
    "import tensorflow as tf\n",
    "import tensorflow.contrib as tf_contrib\n",
    "\n",
    "import os\n",
    "import pathlib\n",
    "\n",
    "import numpy as np\n",
    "\n",
    "import io\n",
    "\n",
    "import random\n",
    "\n",
    "import pylab\n",
    "import tfplot\n",
    "\n",
    "import matplotlib.pyplot as plt\n",
    "import seaborn as sns\n",
    "%matplotlib inline\n",
    "\n",
    "import tfx\n",
    "import tensorflow_transform as tft\n",
    "\n",
    "from cleverhans.loss import SNNLCrossEntropy\n",
    "\n",
    "# import self utility functions\n",
    "import model_arch_utility as model_arch\n",
    "import log_utility as log_util\n",
    "import data_augmentation_utility as da_util\n",
    "import load_data_utility as load_data_util\n",
    "\n",
    "# tensorflow specific settings\n",
    "tf.enable_eager_execution()\n",
    "tf.logging.set_verbosity(tf.logging.DEBUG)\n",
    "\n",
    "# which GPU to be used (0 is RTX, 1 or 2 are either of the Titan Xps)\n",
    "gpu = \"/GPU:0\"\n",
    "\n",
    "AUTOTUNE = tf.contrib.data.AUTOTUNE\n",
    "\n",
    "session_config = tf.ConfigProto()\n",
    "session_config.gpu_options.allow_growth = True\n",
    "session_config.allow_soft_placement = True\n",
    "\n",
    "# session_config.log_device_placement = True\n",
    "tf.keras.backend.set_session(tf.Session(config=session_config))\n",
    "\n",
    "# make sure tensorflow-gpu is being used\n",
    "print(tf.test.gpu_device_name())"
   ]
  },
  {
   "cell_type": "markdown",
   "metadata": {},
   "source": [
    "# Data Augmentation"
   ]
  },
  {
   "cell_type": "code",
   "execution_count": null,
   "metadata": {
    "ExecuteTime": {
     "end_time": "2019-08-06T21:51:55.729857Z",
     "start_time": "2019-08-06T21:51:53.013Z"
    },
    "code_folding": []
   },
   "outputs": [],
   "source": [
    "# data augmentation methods in data_augmentation_utility.py\n",
    "\n",
    "def augment_image(image):\n",
    "                       \n",
    "    image = da_util.rotate(image)\n",
    "    image = da_util.flip(image)\n",
    "    \n",
    "    image = da_util.translate(image)\n",
    "    image = da_util.crop(image)\n",
    "\n",
    "    return image"
   ]
  },
  {
   "cell_type": "markdown",
   "metadata": {},
   "source": [
    "# ConvNet"
   ]
  },
  {
   "cell_type": "markdown",
   "metadata": {},
   "source": [
    "## ConvNet Architecture"
   ]
  },
  {
   "cell_type": "code",
   "execution_count": null,
   "metadata": {
    "ExecuteTime": {
     "end_time": "2019-08-06T21:51:55.732488Z",
     "start_time": "2019-08-06T21:51:54.954Z"
    },
    "code_folding": [],
    "lang": "en"
   },
   "outputs": [],
   "source": [
    "num_classes = 3\n",
    "\n",
    "# ResNet-10 architecture\n",
    "def convnet_network(x, conv_kernels=[10,7,3], num_channels=8, n_classes=num_classes, reuse = False, is_training = True):\n",
    "    with tf.variable_scope('ConvNet', reuse = reuse), tf.device(gpu):\n",
    "        \n",
    "        x = tf.reshape(x, shape=[-1, 512, 512, 1])\n",
    "        # channels\n",
    "        \n",
    "        filtered_images = []\n",
    "        \n",
    "        filtered_images.append(tf.identity(x))\n",
    "        \n",
    "        counter = 0\n",
    "        for kernel in conv_kernels:\n",
    "        \n",
    "            x = model_arch.conv(x, num_channels, kernel=kernel, stride=2, padding='SAME', scope='conv_' + str(counter))\n",
    "            x = model_arch.relu(x)\n",
    "            \n",
    "            x = model_arch.batch_norm(x, is_training, scope='batch_norm_' + str(counter))\n",
    "            \n",
    "            filtered_images.append(tf.identity(x))\n",
    "            \n",
    "            counter = counter + 1\n",
    "            num_channels = num_channels * 2\n",
    " \n",
    "        x_pre_flatten = tf.identity(x)\n",
    "        \n",
    "        x = model_arch.fully_connected(x, num_classes)\n",
    "        \n",
    "        return x, x_pre_flatten, filtered_images\n",
    "\n",
    "    \n",
    "def convnet_model_fn(features, labels, mode, conv_kernels=[10,7,3], num_channels=8, snnl_weight=0.05,\n",
    "                      log=True):\n",
    "    with tf.device(gpu):\n",
    "\n",
    "        print(\"in gpu part\")\n",
    "        logits_train, activ_maps_train, filtered_images = convnet_network(features,\n",
    "                                                                          conv_kernels=conv_kernels,\n",
    "                                                                          num_channels=num_channels,\n",
    "                                                                          n_classes=num_classes,\n",
    "                                                                          reuse=False,\n",
    "                                                                          is_training=True)\n",
    "        \n",
    "        logits_test, activ_maps_test, _ = convnet_network(features,\n",
    "                                                          conv_kernels=conv_kernels,\n",
    "                                                          num_channels=num_channels,\n",
    "                                                          n_classes=num_classes,\n",
    "                                                          reuse=False,\n",
    "                                                          is_training=True)\n",
    "\n",
    "\n",
    "        pred_classes = tf.arg_max(logits_test, dimension=1)\n",
    "\n",
    "        # PREDICT MODE\n",
    "        if mode == tf.estimator.ModeKeys.PREDICT:\n",
    "\n",
    "            return tf.estimator.EstimatorSpec(mode=mode, predictions=pred_classes)\n",
    "\n",
    "\n",
    "        loss_op = tf.reduce_mean(\n",
    "            tf.nn.sparse_softmax_cross_entropy_with_logits(logits=logits_train, labels=tf.cast(labels, dtype=tf.int32)))\n",
    "\n",
    "        loss_op = (1.0 - snnl_weight) * loss_op + snnl_weight * SNNLCrossEntropy.optimized_temp_SNNL(\n",
    "            model_arch.flatten(activ_maps_train), labels, 20.0, True)\n",
    "        \n",
    "        acc_op = tf.metrics.accuracy(labels=labels, predictions=pred_classes)\n",
    "\n",
    "        optimizer = tf.train.AdamOptimizer(learning_rate=learning_rate)\n",
    "        train_op = optimizer.minimize(loss_op, global_step=tf.train.get_global_step())\n",
    "        \n",
    "        if (not log):\n",
    "            tf.summary.scalar(\"loss\", loss_op)\n",
    "            tf.summary.scalar(\"accuracy\", acc_op[1])\n",
    "        \n",
    "        if mode == tf.estimator.ModeKeys.TRAIN:\n",
    "                \n",
    "\n",
    "            # the different ops for training, evaluating, ...\n",
    "            estim_specs = tf.estimator.EstimatorSpec(\n",
    "                mode=mode,\n",
    "                predictions=pred_classes,\n",
    "                loss=loss_op,\n",
    "                train_op=train_op,\n",
    "                eval_metric_ops={'accuracy': acc_op}\n",
    "            )\n",
    "\n",
    "            return estim_specs\n",
    "    \n",
    "#     for var in tf.trainable_variables():\n",
    "#         print(var.name)\n",
    "\n",
    "        if (log):\n",
    "\n",
    "#             conv0_weights = [v for v in tf.global_variables() if v.name == \"Resnet-10/conv_0/conv2d/kernel:0\"][0]\n",
    "\n",
    "#             plot_op_expanded = tf.expand_dims(log_util.plot_conv_weights(conv0_weights), 0)\n",
    "#             tf.summary.image(\"conv_0_weight_plots\", plot_op_expanded)\n",
    "\n",
    "\n",
    "            with tf.name_scope(\"activation_maps\"):\n",
    "\n",
    "                counter = 0\n",
    "\n",
    "                plot_ops = []\n",
    "\n",
    "                for filtered_im in filtered_images:\n",
    "\n",
    "                    name = \"after_conv_\" + str(counter)\n",
    "                    if counter == 0:\n",
    "                        name = \"original_image:\"\n",
    "                    \n",
    "                    activation_map = tf.slice(filtered_im,[0, 0, 0, 0],[1, -1, -1, -1])\n",
    "                    activation_op = tf.expand_dims(log_util.plot_conv_output(activation_map, name), 0)\n",
    "\n",
    "                    plot_ops.append(activation_op)\n",
    "\n",
    "                    counter = counter + 1\n",
    "\n",
    "                final_log_op = tf.concat(plot_ops, 1)\n",
    "\n",
    "                tf.summary.image(\"image_display\", final_log_op)\n",
    "        \n",
    "        eval_summary_hook = tf.train.SummarySaverHook(\n",
    "            save_steps=1,\n",
    "            output_dir=model_path + \"/eval_images\",\n",
    "            summary_op=tf.summary.merge_all())\n",
    "        # Add it to the evaluation_hook list\n",
    "        evaluation_hooks = []\n",
    "        evaluation_hooks.append(eval_summary_hook)\n",
    "\n",
    "        # the different ops for training, evaluating, ...\n",
    "        estim_specs = tf.estimator.EstimatorSpec(\n",
    "            mode=mode,\n",
    "            loss=loss_op,\n",
    "            train_op=train_op,\n",
    "            eval_metric_ops={'accuracy': acc_op},\n",
    "            evaluation_hooks=evaluation_hooks\n",
    "        )\n",
    "\n",
    "        return estim_specs"
   ]
  },
  {
   "cell_type": "markdown",
   "metadata": {},
   "source": [
    "# Running Results"
   ]
  },
  {
   "cell_type": "markdown",
   "metadata": {},
   "source": [
    "## Experimentation"
   ]
  },
  {
   "cell_type": "code",
   "execution_count": null,
   "metadata": {
    "ExecuteTime": {
     "start_time": "2019-08-07T01:06:15.157Z"
    },
    "scrolled": true
   },
   "outputs": [
    {
     "name": "stdout",
     "output_type": "stream",
     "text": [
      "./data/generated_splits/original_initial_labels/train/\n",
      "/data/jma/model/dataset_experiments/original_initial_labels/\n",
      "INFO:tensorflow:Using config: {'_model_dir': '/data/jma/model/dataset_experiments/original_initial_labels/', '_tf_random_seed': 777, '_save_summary_steps': 30, '_save_checkpoints_steps': None, '_save_checkpoints_secs': 30, '_session_config': gpu_options {\n",
      "  allow_growth: true\n",
      "}\n",
      "allow_soft_placement: true\n",
      ", '_keep_checkpoint_max': 5, '_keep_checkpoint_every_n_hours': 10000, '_log_step_count_steps': 20, '_train_distribute': None, '_device_fn': None, '_protocol': None, '_eval_distribute': None, '_experimental_distribute': None, '_service': None, '_cluster_spec': <tensorflow.python.training.server_lib.ClusterSpec object at 0x7ff3186c6dd8>, '_task_type': 'worker', '_task_id': 0, '_global_id_in_cluster': 0, '_master': '', '_evaluation_master': '', '_is_chief': True, '_num_ps_replicas': 0, '_num_worker_replicas': 1}\n",
      "INFO:tensorflow:Running training and evaluation locally (non-distributed).\n",
      "INFO:tensorflow:Start train and evaluate loop. The evaluate will happen after every checkpoint. Checkpoint frequency is determined based on RunConfig arguments: save_checkpoints_steps None or save_checkpoints_secs 30.\n",
      "INFO:tensorflow:Skipping training since max_steps has already saved.\n",
      "./data/generated_splits/original_new_labels/train/\n",
      "/data/jma/model/dataset_experiments/original_new_labels/\n",
      "INFO:tensorflow:Using config: {'_model_dir': '/data/jma/model/dataset_experiments/original_new_labels/', '_tf_random_seed': 777, '_save_summary_steps': 30, '_save_checkpoints_steps': None, '_save_checkpoints_secs': 30, '_session_config': gpu_options {\n",
      "  allow_growth: true\n",
      "}\n",
      "allow_soft_placement: true\n",
      ", '_keep_checkpoint_max': 5, '_keep_checkpoint_every_n_hours': 10000, '_log_step_count_steps': 20, '_train_distribute': None, '_device_fn': None, '_protocol': None, '_eval_distribute': None, '_experimental_distribute': None, '_service': None, '_cluster_spec': <tensorflow.python.training.server_lib.ClusterSpec object at 0x7ff3186c6f28>, '_task_type': 'worker', '_task_id': 0, '_global_id_in_cluster': 0, '_master': '', '_evaluation_master': '', '_is_chief': True, '_num_ps_replicas': 0, '_num_worker_replicas': 1}\n",
      "INFO:tensorflow:Running training and evaluation locally (non-distributed).\n",
      "INFO:tensorflow:Start train and evaluate loop. The evaluate will happen after every checkpoint. Checkpoint frequency is determined based on RunConfig arguments: save_checkpoints_steps None or save_checkpoints_secs 30.\n",
      "INFO:tensorflow:Skipping training since max_steps has already saved.\n",
      "./data/generated_splits/train_set_balanced/train/\n",
      "/data/jma/model/dataset_experiments/train_set_balanced/\n",
      "INFO:tensorflow:Using config: {'_model_dir': '/data/jma/model/dataset_experiments/train_set_balanced/', '_tf_random_seed': 777, '_save_summary_steps': 30, '_save_checkpoints_steps': None, '_save_checkpoints_secs': 30, '_session_config': gpu_options {\n",
      "  allow_growth: true\n",
      "}\n",
      "allow_soft_placement: true\n",
      ", '_keep_checkpoint_max': 5, '_keep_checkpoint_every_n_hours': 10000, '_log_step_count_steps': 20, '_train_distribute': None, '_device_fn': None, '_protocol': None, '_eval_distribute': None, '_experimental_distribute': None, '_service': None, '_cluster_spec': <tensorflow.python.training.server_lib.ClusterSpec object at 0x7ff3186c62e8>, '_task_type': 'worker', '_task_id': 0, '_global_id_in_cluster': 0, '_master': '', '_evaluation_master': '', '_is_chief': True, '_num_ps_replicas': 0, '_num_worker_replicas': 1}\n",
      "INFO:tensorflow:Running training and evaluation locally (non-distributed).\n",
      "INFO:tensorflow:Start train and evaluate loop. The evaluate will happen after every checkpoint. Checkpoint frequency is determined based on RunConfig arguments: save_checkpoints_steps None or save_checkpoints_secs 30.\n",
      "shuffling and repeating b/c training flag set\n",
      "INFO:tensorflow:Calling model_fn.\n",
      "in gpu part\n",
      "INFO:tensorflow:Done calling model_fn.\n",
      "INFO:tensorflow:Create CheckpointSaverHook.\n",
      "INFO:tensorflow:Graph was finalized.\n",
      "INFO:tensorflow:Running local_init_op.\n",
      "INFO:tensorflow:Done running local_init_op.\n",
      "INFO:tensorflow:Saving checkpoints for 0 into /data/jma/model/dataset_experiments/train_set_balanced/model.ckpt.\n",
      "INFO:tensorflow:loss = 1.4122193, step = 0\n"
     ]
    }
   ],
   "source": [
    "tf.logging.set_verbosity(tf.logging.INFO)\n",
    "tf.summary.FileWriterCache.clear()\n",
    "b_size = 32\n",
    "\n",
    "learning_rate = 0.001\n",
    "\n",
    "random_seed = 777\n",
    "\n",
    "num_steps = 10000\n",
    "\n",
    "convnet_checkpoint_path_base = \"/data/jma/model/dataset_experiments/\"\n",
    "\n",
    "# kernel_sizes = [7, 9, 10, 11, 13]\n",
    "# filter_sizes = [10]\n",
    "# snnl_weights = [0.0]\n",
    "\n",
    "kernel_sizes = [[10, 7, 3]]\n",
    "filter_sizes = [8]\n",
    "snnl_weights = [0.00]\n",
    "\n",
    "# data_root = \"./data/data_relabeled_png_synthetic/\"\n",
    "\n",
    "# image_paths = load_data_util.load_image_paths(data_root)\n",
    "# train_paths, eval_paths, test_paths = load_data_util.split(image_paths, seed=random_seed, split=[0.7, 0.1, 0.2])\n",
    "\n",
    "# train_input_fn = lambda : load_data_util.load(data_root, train_paths, training=True, augment=False, batch_size=32, shuffle=False)\n",
    "# eval_input_fn = lambda : load_data_util.load(data_root, eval_paths, training=False, augment=False, batch_size=32, shuffle=False)\n",
    "# test_input_fn = lambda : load_data_util.load(data_root, test_paths, training=False, augment=False, shuffle=False)\n",
    "\n",
    "\n",
    "dataset_root = \"./data/generated_splits/\"\n",
    "\n",
    "sets = [\"original_initial_labels\", \"original_new_labels\", \"train_set_balanced\", \"whole_set_balanced\" ]\n",
    "\n",
    "for dt_set in sets:\n",
    "    for filter_size in filter_sizes:\n",
    "        for kernel_size in kernel_sizes:\n",
    "\n",
    "            for snnl_weight in snnl_weights:\n",
    "\n",
    "                train_root = dataset_root + dt_set + \"/train/\"\n",
    "                eval_root = dataset_root + dt_set + \"/eval/\"\n",
    "               \n",
    "                train_paths = load_data_util.load_image_paths(train_root)\n",
    "                random.shuffle(train_paths)\n",
    "\n",
    "                print(train_root)\n",
    "                \n",
    "                eval_paths = load_data_util.load_image_paths(eval_root)\n",
    "                \n",
    "                train_input_fn = lambda : load_data_util.load(train_root, train_paths, training=True, augment=False, batch_size=32, shuffle=False)\n",
    "                eval_input_fn = lambda : load_data_util.load(eval_root, eval_paths, training=False, augment=False, batch_size=32, shuffle=False)\n",
    "\n",
    "\n",
    "                model_path = convnet_checkpoint_path_base + dt_set + \"/\"\n",
    "                print(model_path)\n",
    "\n",
    "                config = tf.estimator.RunConfig(\n",
    "                    log_step_count_steps= 20,\n",
    "                    save_summary_steps= 30,\n",
    "                    save_checkpoints_secs= 30,\n",
    "                    model_dir=model_path,\n",
    "                    tf_random_seed=random_seed,\n",
    "                    session_config=session_config)\n",
    "\n",
    "                model_fn = lambda features, labels, mode: convnet_model_fn(features, labels, mode, \n",
    "                                                                            conv_kernels=kernel_size, \n",
    "                                                                             num_channels=filter_size,\n",
    "                                                                            snnl_weight=snnl_weight,\n",
    "                                                                            log=False)\n",
    "\n",
    "                model = tf.estimator.Estimator(model_fn=model_fn, config=config)\n",
    "\n",
    "                train_spec = tf.estimator.TrainSpec(input_fn=train_input_fn, max_steps=num_steps)\n",
    "                eval_spec = tf.estimator.EvalSpec(input_fn=eval_input_fn, throttle_secs=30)\n",
    "\n",
    "                tf.estimator.train_and_evaluate(model, train_spec, eval_spec)\n",
    "\n",
    "        "
   ]
  },
  {
   "cell_type": "markdown",
   "metadata": {},
   "source": [
    "## Evaluation"
   ]
  },
  {
   "cell_type": "code",
   "execution_count": 35,
   "metadata": {
    "ExecuteTime": {
     "end_time": "2019-08-06T18:01:00.309980Z",
     "start_time": "2019-08-06T18:00:59.595777Z"
    }
   },
   "outputs": [
    {
     "name": "stdout",
     "output_type": "stream",
     "text": [
      "/data/jma/model/synthetic_data/convnet/model_unbalanced_dataset_filter8/\n",
      "INFO:tensorflow:Using default config.\n",
      "INFO:tensorflow:Using config: {'_model_dir': '/data/jma/model/synthetic_data/convnet/model_unbalanced_dataset_filter8/', '_tf_random_seed': None, '_save_summary_steps': 100, '_save_checkpoints_steps': None, '_save_checkpoints_secs': 600, '_session_config': allow_soft_placement: true\n",
      "graph_options {\n",
      "  rewrite_options {\n",
      "    meta_optimizer_iterations: ONE\n",
      "  }\n",
      "}\n",
      ", '_keep_checkpoint_max': 5, '_keep_checkpoint_every_n_hours': 10000, '_log_step_count_steps': 100, '_train_distribute': None, '_device_fn': None, '_protocol': None, '_eval_distribute': None, '_experimental_distribute': None, '_service': None, '_cluster_spec': <tensorflow.python.training.server_lib.ClusterSpec object at 0x7ff092e912e8>, '_task_type': 'worker', '_task_id': 0, '_global_id_in_cluster': 0, '_master': '', '_evaluation_master': '', '_is_chief': True, '_num_ps_replicas': 0, '_num_worker_replicas': 1}\n",
      "INFO:tensorflow:Calling model_fn.\n",
      "in gpu part\n"
     ]
    },
    {
     "ename": "ValueError",
     "evalue": "Cannot evaluate tensor using `eval()`: No default session is registered. Use `with sess.as_default()` or pass an explicit session to `eval(session=sess)`",
     "output_type": "error",
     "traceback": [
      "\u001b[0;31m---------------------------------------------------------------------------\u001b[0m",
      "\u001b[0;31mValueError\u001b[0m                                Traceback (most recent call last)",
      "\u001b[0;32m<ipython-input-35-ad24d9b1b6ff>\u001b[0m in \u001b[0;36m<module>\u001b[0;34m()\u001b[0m\n\u001b[1;32m     45\u001b[0m             \u001b[0mmodel\u001b[0m \u001b[0;34m=\u001b[0m \u001b[0mtf\u001b[0m\u001b[0;34m.\u001b[0m\u001b[0mestimator\u001b[0m\u001b[0;34m.\u001b[0m\u001b[0mEstimator\u001b[0m\u001b[0;34m(\u001b[0m\u001b[0mmodel_fn\u001b[0m\u001b[0;34m=\u001b[0m\u001b[0mmodel_fn\u001b[0m\u001b[0;34m,\u001b[0m \u001b[0mmodel_dir\u001b[0m\u001b[0;34m=\u001b[0m\u001b[0mmodel_path\u001b[0m\u001b[0;34m)\u001b[0m\u001b[0;34m\u001b[0m\u001b[0;34m\u001b[0m\u001b[0m\n\u001b[1;32m     46\u001b[0m \u001b[0;34m\u001b[0m\u001b[0m\n\u001b[0;32m---> 47\u001b[0;31m             \u001b[0mmodel\u001b[0m\u001b[0;34m.\u001b[0m\u001b[0mevaluate\u001b[0m\u001b[0;34m(\u001b[0m\u001b[0meval_input_fn\u001b[0m\u001b[0;34m)\u001b[0m\u001b[0;34m\u001b[0m\u001b[0;34m\u001b[0m\u001b[0m\n\u001b[0m\u001b[1;32m     48\u001b[0m \u001b[0;34m\u001b[0m\u001b[0m\n",
      "\u001b[0;32m/usr/local/lib/python3.6/dist-packages/tensorflow/python/estimator/estimator.py\u001b[0m in \u001b[0;36mevaluate\u001b[0;34m(self, input_fn, steps, hooks, checkpoint_path, name)\u001b[0m\n\u001b[1;32m    474\u001b[0m             \u001b[0;32mreturn\u001b[0m \u001b[0m_evaluate\u001b[0m\u001b[0;34m(\u001b[0m\u001b[0;34m)\u001b[0m\u001b[0;34m\u001b[0m\u001b[0;34m\u001b[0m\u001b[0m\n\u001b[1;32m    475\u001b[0m         \u001b[0;32melse\u001b[0m\u001b[0;34m:\u001b[0m\u001b[0;34m\u001b[0m\u001b[0;34m\u001b[0m\u001b[0m\n\u001b[0;32m--> 476\u001b[0;31m           \u001b[0;32mreturn\u001b[0m \u001b[0m_evaluate\u001b[0m\u001b[0;34m(\u001b[0m\u001b[0;34m)\u001b[0m\u001b[0;34m\u001b[0m\u001b[0;34m\u001b[0m\u001b[0m\n\u001b[0m\u001b[1;32m    477\u001b[0m \u001b[0;34m\u001b[0m\u001b[0m\n\u001b[1;32m    478\u001b[0m   \u001b[0;32mdef\u001b[0m \u001b[0m_convert_eval_steps_to_hooks\u001b[0m\u001b[0;34m(\u001b[0m\u001b[0mself\u001b[0m\u001b[0;34m,\u001b[0m \u001b[0msteps\u001b[0m\u001b[0;34m)\u001b[0m\u001b[0;34m:\u001b[0m\u001b[0;34m\u001b[0m\u001b[0;34m\u001b[0m\u001b[0m\n",
      "\u001b[0;32m/usr/local/lib/python3.6/dist-packages/tensorflow/python/estimator/estimator.py\u001b[0m in \u001b[0;36m_evaluate\u001b[0;34m()\u001b[0m\n\u001b[1;32m    460\u001b[0m       \u001b[0;32mdef\u001b[0m \u001b[0m_evaluate\u001b[0m\u001b[0;34m(\u001b[0m\u001b[0;34m)\u001b[0m\u001b[0;34m:\u001b[0m\u001b[0;34m\u001b[0m\u001b[0;34m\u001b[0m\u001b[0m\n\u001b[1;32m    461\u001b[0m         (scaffold, update_op, eval_dict, all_hooks) = (\n\u001b[0;32m--> 462\u001b[0;31m             self._evaluate_build_graph(input_fn, hooks, checkpoint_path))\n\u001b[0m\u001b[1;32m    463\u001b[0m         return self._evaluate_run(\n\u001b[1;32m    464\u001b[0m             \u001b[0mcheckpoint_path\u001b[0m\u001b[0;34m=\u001b[0m\u001b[0mcheckpoint_path\u001b[0m\u001b[0;34m,\u001b[0m\u001b[0;34m\u001b[0m\u001b[0;34m\u001b[0m\u001b[0m\n",
      "\u001b[0;32m/usr/local/lib/python3.6/dist-packages/tensorflow/python/estimator/estimator.py\u001b[0m in \u001b[0;36m_evaluate_build_graph\u001b[0;34m(self, input_fn, hooks, checkpoint_path)\u001b[0m\n\u001b[1;32m   1420\u001b[0m     \u001b[0;32melse\u001b[0m\u001b[0;34m:\u001b[0m\u001b[0;34m\u001b[0m\u001b[0;34m\u001b[0m\u001b[0m\n\u001b[1;32m   1421\u001b[0m       (scaffold, evaluation_hooks, input_hooks, update_op, eval_dict) = (\n\u001b[0;32m-> 1422\u001b[0;31m           self._call_model_fn_eval(input_fn, self.config))\n\u001b[0m\u001b[1;32m   1423\u001b[0m \u001b[0;34m\u001b[0m\u001b[0m\n\u001b[1;32m   1424\u001b[0m     \u001b[0mglobal_step_tensor\u001b[0m \u001b[0;34m=\u001b[0m \u001b[0mtraining_util\u001b[0m\u001b[0;34m.\u001b[0m\u001b[0mget_global_step\u001b[0m\u001b[0;34m(\u001b[0m\u001b[0mops\u001b[0m\u001b[0;34m.\u001b[0m\u001b[0mget_default_graph\u001b[0m\u001b[0;34m(\u001b[0m\u001b[0;34m)\u001b[0m\u001b[0;34m)\u001b[0m\u001b[0;34m\u001b[0m\u001b[0;34m\u001b[0m\u001b[0m\n",
      "\u001b[0;32m/usr/local/lib/python3.6/dist-packages/tensorflow/python/estimator/estimator.py\u001b[0m in \u001b[0;36m_call_model_fn_eval\u001b[0;34m(self, input_fn, config)\u001b[0m\n\u001b[1;32m   1456\u001b[0m \u001b[0;34m\u001b[0m\u001b[0m\n\u001b[1;32m   1457\u001b[0m     estimator_spec = self._call_model_fn(\n\u001b[0;32m-> 1458\u001b[0;31m         features, labels, model_fn_lib.ModeKeys.EVAL, config)\n\u001b[0m\u001b[1;32m   1459\u001b[0m     eval_metric_ops = _verify_and_create_loss_metric(\n\u001b[1;32m   1460\u001b[0m         estimator_spec.eval_metric_ops, estimator_spec.loss)\n",
      "\u001b[0;32m/usr/local/lib/python3.6/dist-packages/tensorflow/python/estimator/estimator.py\u001b[0m in \u001b[0;36m_call_model_fn\u001b[0;34m(self, features, labels, mode, config)\u001b[0m\n\u001b[1;32m   1167\u001b[0m \u001b[0;34m\u001b[0m\u001b[0m\n\u001b[1;32m   1168\u001b[0m     \u001b[0mlogging\u001b[0m\u001b[0;34m.\u001b[0m\u001b[0minfo\u001b[0m\u001b[0;34m(\u001b[0m\u001b[0;34m'Calling model_fn.'\u001b[0m\u001b[0;34m)\u001b[0m\u001b[0;34m\u001b[0m\u001b[0;34m\u001b[0m\u001b[0m\n\u001b[0;32m-> 1169\u001b[0;31m     \u001b[0mmodel_fn_results\u001b[0m \u001b[0;34m=\u001b[0m \u001b[0mself\u001b[0m\u001b[0;34m.\u001b[0m\u001b[0m_model_fn\u001b[0m\u001b[0;34m(\u001b[0m\u001b[0mfeatures\u001b[0m\u001b[0;34m=\u001b[0m\u001b[0mfeatures\u001b[0m\u001b[0;34m,\u001b[0m \u001b[0;34m**\u001b[0m\u001b[0mkwargs\u001b[0m\u001b[0;34m)\u001b[0m\u001b[0;34m\u001b[0m\u001b[0;34m\u001b[0m\u001b[0m\n\u001b[0m\u001b[1;32m   1170\u001b[0m     \u001b[0mlogging\u001b[0m\u001b[0;34m.\u001b[0m\u001b[0minfo\u001b[0m\u001b[0;34m(\u001b[0m\u001b[0;34m'Done calling model_fn.'\u001b[0m\u001b[0;34m)\u001b[0m\u001b[0;34m\u001b[0m\u001b[0;34m\u001b[0m\u001b[0m\n\u001b[1;32m   1171\u001b[0m \u001b[0;34m\u001b[0m\u001b[0m\n",
      "\u001b[0;32m<ipython-input-35-ad24d9b1b6ff>\u001b[0m in \u001b[0;36m<lambda>\u001b[0;34m(features, labels, mode)\u001b[0m\n\u001b[1;32m     41\u001b[0m                                                                         \u001b[0mnum_channels\u001b[0m\u001b[0;34m=\u001b[0m\u001b[0mfilter_size\u001b[0m\u001b[0;34m,\u001b[0m\u001b[0;34m\u001b[0m\u001b[0;34m\u001b[0m\u001b[0m\n\u001b[1;32m     42\u001b[0m                                                                         \u001b[0msnnl_weight\u001b[0m\u001b[0;34m=\u001b[0m\u001b[0msnnl_weight\u001b[0m\u001b[0;34m,\u001b[0m\u001b[0;34m\u001b[0m\u001b[0;34m\u001b[0m\u001b[0m\n\u001b[0;32m---> 43\u001b[0;31m                                                                         log=True)\n\u001b[0m\u001b[1;32m     44\u001b[0m \u001b[0;34m\u001b[0m\u001b[0m\n\u001b[1;32m     45\u001b[0m             \u001b[0mmodel\u001b[0m \u001b[0;34m=\u001b[0m \u001b[0mtf\u001b[0m\u001b[0;34m.\u001b[0m\u001b[0mestimator\u001b[0m\u001b[0;34m.\u001b[0m\u001b[0mEstimator\u001b[0m\u001b[0;34m(\u001b[0m\u001b[0mmodel_fn\u001b[0m\u001b[0;34m=\u001b[0m\u001b[0mmodel_fn\u001b[0m\u001b[0;34m,\u001b[0m \u001b[0mmodel_dir\u001b[0m\u001b[0;34m=\u001b[0m\u001b[0mmodel_path\u001b[0m\u001b[0;34m)\u001b[0m\u001b[0;34m\u001b[0m\u001b[0;34m\u001b[0m\u001b[0m\n",
      "\u001b[0;32m<ipython-input-34-a6a7d3539c67>\u001b[0m in \u001b[0;36mconvnet_model_fn\u001b[0;34m(features, labels, mode, conv_kernels, num_channels, snnl_weight, log)\u001b[0m\n\u001b[1;32m    109\u001b[0m                     \u001b[0mname\u001b[0m \u001b[0;34m=\u001b[0m \u001b[0;34m\"after_conv_\"\u001b[0m \u001b[0;34m+\u001b[0m \u001b[0mstr\u001b[0m\u001b[0;34m(\u001b[0m\u001b[0mcounter\u001b[0m\u001b[0;34m)\u001b[0m\u001b[0;34m\u001b[0m\u001b[0;34m\u001b[0m\u001b[0m\n\u001b[1;32m    110\u001b[0m                     \u001b[0;32mif\u001b[0m \u001b[0mcounter\u001b[0m \u001b[0;34m==\u001b[0m \u001b[0;36m0\u001b[0m\u001b[0;34m:\u001b[0m\u001b[0;34m\u001b[0m\u001b[0;34m\u001b[0m\u001b[0m\n\u001b[0;32m--> 111\u001b[0;31m                         \u001b[0mname\u001b[0m \u001b[0;34m=\u001b[0m \u001b[0;34m\"original_image: labeled \"\u001b[0m \u001b[0;34m+\u001b[0m \u001b[0mstr\u001b[0m\u001b[0;34m(\u001b[0m\u001b[0mtf\u001b[0m\u001b[0;34m.\u001b[0m\u001b[0mslice\u001b[0m\u001b[0;34m(\u001b[0m\u001b[0mlabels\u001b[0m\u001b[0;34m,\u001b[0m \u001b[0;34m[\u001b[0m\u001b[0;36m0\u001b[0m\u001b[0;34m]\u001b[0m\u001b[0;34m,\u001b[0m \u001b[0;34m[\u001b[0m\u001b[0;36m1\u001b[0m\u001b[0;34m]\u001b[0m\u001b[0;34m)\u001b[0m\u001b[0;34m.\u001b[0m\u001b[0meval\u001b[0m\u001b[0;34m(\u001b[0m\u001b[0;34m)\u001b[0m\u001b[0;34m)\u001b[0m\u001b[0;34m\u001b[0m\u001b[0;34m\u001b[0m\u001b[0m\n\u001b[0m\u001b[1;32m    112\u001b[0m \u001b[0;34m\u001b[0m\u001b[0m\n\u001b[1;32m    113\u001b[0m                     \u001b[0mactivation_map\u001b[0m \u001b[0;34m=\u001b[0m \u001b[0mtf\u001b[0m\u001b[0;34m.\u001b[0m\u001b[0mslice\u001b[0m\u001b[0;34m(\u001b[0m\u001b[0mfiltered_im\u001b[0m\u001b[0;34m,\u001b[0m\u001b[0;34m[\u001b[0m\u001b[0;36m0\u001b[0m\u001b[0;34m,\u001b[0m \u001b[0;36m0\u001b[0m\u001b[0;34m,\u001b[0m \u001b[0;36m0\u001b[0m\u001b[0;34m,\u001b[0m \u001b[0;36m0\u001b[0m\u001b[0;34m]\u001b[0m\u001b[0;34m,\u001b[0m\u001b[0;34m[\u001b[0m\u001b[0;36m1\u001b[0m\u001b[0;34m,\u001b[0m \u001b[0;34m-\u001b[0m\u001b[0;36m1\u001b[0m\u001b[0;34m,\u001b[0m \u001b[0;34m-\u001b[0m\u001b[0;36m1\u001b[0m\u001b[0;34m,\u001b[0m \u001b[0;34m-\u001b[0m\u001b[0;36m1\u001b[0m\u001b[0;34m]\u001b[0m\u001b[0;34m)\u001b[0m\u001b[0;34m\u001b[0m\u001b[0;34m\u001b[0m\u001b[0m\n",
      "\u001b[0;32m/usr/local/lib/python3.6/dist-packages/tensorflow/python/framework/ops.py\u001b[0m in \u001b[0;36meval\u001b[0;34m(self, feed_dict, session)\u001b[0m\n\u001b[1;32m    709\u001b[0m \u001b[0;34m\u001b[0m\u001b[0m\n\u001b[1;32m    710\u001b[0m     \"\"\"\n\u001b[0;32m--> 711\u001b[0;31m     \u001b[0;32mreturn\u001b[0m \u001b[0m_eval_using_default_session\u001b[0m\u001b[0;34m(\u001b[0m\u001b[0mself\u001b[0m\u001b[0;34m,\u001b[0m \u001b[0mfeed_dict\u001b[0m\u001b[0;34m,\u001b[0m \u001b[0mself\u001b[0m\u001b[0;34m.\u001b[0m\u001b[0mgraph\u001b[0m\u001b[0;34m,\u001b[0m \u001b[0msession\u001b[0m\u001b[0;34m)\u001b[0m\u001b[0;34m\u001b[0m\u001b[0;34m\u001b[0m\u001b[0m\n\u001b[0m\u001b[1;32m    712\u001b[0m \u001b[0;34m\u001b[0m\u001b[0m\n\u001b[1;32m    713\u001b[0m \u001b[0;34m\u001b[0m\u001b[0m\n",
      "\u001b[0;32m/usr/local/lib/python3.6/dist-packages/tensorflow/python/framework/ops.py\u001b[0m in \u001b[0;36m_eval_using_default_session\u001b[0;34m(tensors, feed_dict, graph, session)\u001b[0m\n\u001b[1;32m   5139\u001b[0m     \u001b[0msession\u001b[0m \u001b[0;34m=\u001b[0m \u001b[0mget_default_session\u001b[0m\u001b[0;34m(\u001b[0m\u001b[0;34m)\u001b[0m\u001b[0;34m\u001b[0m\u001b[0;34m\u001b[0m\u001b[0m\n\u001b[1;32m   5140\u001b[0m     \u001b[0;32mif\u001b[0m \u001b[0msession\u001b[0m \u001b[0;32mis\u001b[0m \u001b[0;32mNone\u001b[0m\u001b[0;34m:\u001b[0m\u001b[0;34m\u001b[0m\u001b[0;34m\u001b[0m\u001b[0m\n\u001b[0;32m-> 5141\u001b[0;31m       raise ValueError(\"Cannot evaluate tensor using `eval()`: No default \"\n\u001b[0m\u001b[1;32m   5142\u001b[0m                        \u001b[0;34m\"session is registered. Use `with \"\u001b[0m\u001b[0;34m\u001b[0m\u001b[0;34m\u001b[0m\u001b[0m\n\u001b[1;32m   5143\u001b[0m                        \u001b[0;34m\"sess.as_default()` or pass an explicit session to \"\u001b[0m\u001b[0;34m\u001b[0m\u001b[0;34m\u001b[0m\u001b[0m\n",
      "\u001b[0;31mValueError\u001b[0m: Cannot evaluate tensor using `eval()`: No default session is registered. Use `with sess.as_default()` or pass an explicit session to `eval(session=sess)`"
     ]
    }
   ],
   "source": [
    "tf.logging.set_verbosity(tf.logging.INFO)\n",
    "\n",
    "b_size = 32\n",
    "\n",
    "learning_rate = 0.005\n",
    "\n",
    "random_seed = 777\n",
    "\n",
    "num_steps = 20000\n",
    "\n",
    "resnet10_checkpoint_path_base = \"/data/jma/model/synthetic_data/convnet/\"\n",
    "\n",
    "# kernel_sizes = [7, 9, 10, 11, 13]\n",
    "# filter_sizes = [10]\n",
    "# snnl_weights = [0.0]\n",
    "\n",
    "kernel_sizes = [[10, 7, 3]]\n",
    "filter_sizes = [8]\n",
    "snnl_weights = [0.0]\n",
    "\n",
    "# data_root = \"./data/custom_activation_map_data/\"\n",
    "\n",
    "data_root = \"./data/custom_activation_map_data/\"\n",
    "\n",
    "image_paths = load_data_util.load_image_paths(data_root)\n",
    "\n",
    "eval_input_fn = lambda : load_data_util.load(data_root, image_paths, training=False, augment=False, batch_size=1, shuffle=False)\n",
    "\n",
    "\n",
    "for filter_size in filter_sizes:\n",
    "    for kernel_size in kernel_sizes:\n",
    "        \n",
    "        for snnl_weight in snnl_weights:\n",
    "            tf.summary.FileWriterCache.clear()\n",
    " \n",
    "            model_path = resnet10_checkpoint_path_base + \"model_unbalanced_dataset_filter8/\"\n",
    "            print(model_path)\n",
    "\n",
    "            model_fn = lambda features, labels, mode: convnet_model_fn(features, labels, mode, \n",
    "                                                                        conv_kernels=kernel_size, \n",
    "                                                                        num_channels=filter_size,\n",
    "                                                                        snnl_weight=snnl_weight,\n",
    "                                                                        log=True)\n",
    "\n",
    "            model = tf.estimator.Estimator(model_fn=model_fn, model_dir=model_path)\n",
    "\n",
    "            model.evaluate(eval_input_fn)\n",
    "              "
   ]
  },
  {
   "cell_type": "code",
   "execution_count": null,
   "metadata": {},
   "outputs": [],
   "source": []
  },
  {
   "cell_type": "markdown",
   "metadata": {},
   "source": [
    "# Metrics"
   ]
  },
  {
   "cell_type": "markdown",
   "metadata": {},
   "source": [
    "## Metric Utility Functions"
   ]
  },
  {
   "cell_type": "code",
   "execution_count": 13,
   "metadata": {
    "ExecuteTime": {
     "end_time": "2019-08-03T01:02:03.403620Z",
     "start_time": "2019-08-03T01:02:03.387571Z"
    }
   },
   "outputs": [
    {
     "name": "stdout",
     "output_type": "stream",
     "text": [
      "['data/data_relabeled_png/1/IM-0012-0005-0001.dcm.png', 'data/data_relabeled_png/1/IM-0069-0023-0001.dcm.png', 'data/data_relabeled_png/1/IM-0046-0027-0001.dcm.png', 'data/data_relabeled_png/1/IM-0064-0014-0001.dcm.png', 'data/data_relabeled_png/2/IM-0054-0018-0001.dcm.png', 'data/data_relabeled_png/1/IM-0068-0022-0001.dcm.png', 'data/data_relabeled_png/1/IM-0053-0026-0001.dcm.png', 'data/data_relabeled_png/1/IM-0050-0004-0001.dcm.png', 'data/data_relabeled_png/1/IM-0003-0001-0001.dcm.png', 'data/data_relabeled_png/2/IM-0016-0001-0001.dcm.png', 'data/data_relabeled_png/1/IM-0071-0022-0001.dcm.png', 'data/data_relabeled_png/1/IM-0042-0009-0001.dcm.png', 'data/data_relabeled_png/2/IM-0005-0018-0001.dcm.png', 'data/data_relabeled_png/1/IM-0032-0031-0001.dcm.png', 'data/data_relabeled_png/0/IM-0004-0004-0001.dcm.png', 'data/data_relabeled_png/1/IM-0054-0006-0001.dcm.png', 'data/data_relabeled_png/1/IM-0031-0016-0001.dcm.png', 'data/data_relabeled_png/1/IM-0047-0024-0001.dcm.png', 'data/data_relabeled_png/1/IM-0003-0026-0001.dcm.png', 'data/data_relabeled_png/1/IM-0018-0004-0001.dcm.png']\n"
     ]
    }
   ],
   "source": [
    "def path_to_label(paths, data_root):\n",
    "\n",
    "    data_root = pathlib.Path(data_root)\n",
    "\n",
    "    # return label names\n",
    "    label_names = sorted(item.name for item in data_root.glob('*/') if item.is_dir())\n",
    "\n",
    "    # assign index to label\n",
    "    label_to_index = dict((name, index) for index,name in enumerate(label_names))\n",
    "\n",
    "    # array of all labels corresponding to image_paths\n",
    "    all_image_labels = [label_to_index[pathlib.Path(path).parent.name]\n",
    "                        for path in paths]\n",
    "    \n",
    "    return all_image_labels\n",
    "\n",
    "print(eval_paths[:20])\n"
   ]
  },
  {
   "cell_type": "markdown",
   "metadata": {},
   "source": [
    "## Confusion Matrices"
   ]
  },
  {
   "cell_type": "code",
   "execution_count": 75,
   "metadata": {
    "ExecuteTime": {
     "end_time": "2019-08-07T05:29:15.950661Z",
     "start_time": "2019-08-07T05:29:09.398166Z"
    },
    "scrolled": false
   },
   "outputs": [
    {
     "name": "stdout",
     "output_type": "stream",
     "text": [
      "./data/generated_splits/original_initial_labels/eval/\n",
      "['data/generated_splits/original_initial_labels/eval/1/819be44b-5472-47e7-9fc8-80489088bca2.png', 'data/generated_splits/original_initial_labels/eval/1/417cf10a-6e70-4303-ad89-a8de47c9705d.png', 'data/generated_splits/original_initial_labels/eval/1/1da728f3-05ac-444c-9361-a5fc526ea804.png', 'data/generated_splits/original_initial_labels/eval/1/b1772a43-a662-4d78-8f78-717c1dd97dd2.png', 'data/generated_splits/original_initial_labels/eval/1/fbcef938-a010-4dc6-82bb-65f9094c5202.png']\n",
      "/data/jma/model/dataset_experiments/original_initial_labels/\n",
      "INFO:tensorflow:Using default config.\n",
      "INFO:tensorflow:Using config: {'_model_dir': '/data/jma/model/dataset_experiments/original_initial_labels/', '_tf_random_seed': None, '_save_summary_steps': 100, '_save_checkpoints_steps': None, '_save_checkpoints_secs': 600, '_session_config': allow_soft_placement: true\n",
      "graph_options {\n",
      "  rewrite_options {\n",
      "    meta_optimizer_iterations: ONE\n",
      "  }\n",
      "}\n",
      ", '_keep_checkpoint_max': 5, '_keep_checkpoint_every_n_hours': 10000, '_log_step_count_steps': 100, '_train_distribute': None, '_device_fn': None, '_protocol': None, '_eval_distribute': None, '_experimental_distribute': None, '_service': None, '_cluster_spec': <tensorflow.python.training.server_lib.ClusterSpec object at 0x7ff1b5e7beb8>, '_task_type': 'worker', '_task_id': 0, '_global_id_in_cluster': 0, '_master': '', '_evaluation_master': '', '_is_chief': True, '_num_ps_replicas': 0, '_num_worker_replicas': 1}\n",
      "INFO:tensorflow:Calling model_fn.\n",
      "in gpu part\n",
      "INFO:tensorflow:Done calling model_fn.\n",
      "INFO:tensorflow:Graph was finalized.\n",
      "INFO:tensorflow:Restoring parameters from /data/jma/model/dataset_experiments/original_initial_labels/model.ckpt-10000\n",
      "INFO:tensorflow:Running local_init_op.\n",
      "INFO:tensorflow:Done running local_init_op.\n"
     ]
    },
    {
     "data": {
      "image/png": "[encoded data removed]",
      "text/plain": [
       "<Figure size 432x288 with 2 Axes>"
      ]
     },
     "metadata": {},
     "output_type": "display_data"
    },
    {
     "name": "stdout",
     "output_type": "stream",
     "text": [
      "./data/generated_splits/original_new_labels/eval/\n",
      "['data/generated_splits/original_new_labels/eval/1/IM-0071-0019-0001.dcm.png', 'data/generated_splits/original_new_labels/eval/1/IM-0025-0022-0001.dcm.png', 'data/generated_splits/original_new_labels/eval/1/IM-0028-0011-0001.dcm.png', 'data/generated_splits/original_new_labels/eval/1/IM-0042-0021-0001.dcm.png', 'data/generated_splits/original_new_labels/eval/1/IM-0037-0020-0001.dcm.png']\n",
      "/data/jma/model/dataset_experiments/original_new_labels/\n",
      "INFO:tensorflow:Using default config.\n",
      "INFO:tensorflow:Using config: {'_model_dir': '/data/jma/model/dataset_experiments/original_new_labels/', '_tf_random_seed': None, '_save_summary_steps': 100, '_save_checkpoints_steps': None, '_save_checkpoints_secs': 600, '_session_config': allow_soft_placement: true\n",
      "graph_options {\n",
      "  rewrite_options {\n",
      "    meta_optimizer_iterations: ONE\n",
      "  }\n",
      "}\n",
      ", '_keep_checkpoint_max': 5, '_keep_checkpoint_every_n_hours': 10000, '_log_step_count_steps': 100, '_train_distribute': None, '_device_fn': None, '_protocol': None, '_eval_distribute': None, '_experimental_distribute': None, '_service': None, '_cluster_spec': <tensorflow.python.training.server_lib.ClusterSpec object at 0x7ff62c7f4780>, '_task_type': 'worker', '_task_id': 0, '_global_id_in_cluster': 0, '_master': '', '_evaluation_master': '', '_is_chief': True, '_num_ps_replicas': 0, '_num_worker_replicas': 1}\n",
      "INFO:tensorflow:Calling model_fn.\n",
      "in gpu part\n",
      "INFO:tensorflow:Done calling model_fn.\n",
      "INFO:tensorflow:Graph was finalized.\n",
      "INFO:tensorflow:Restoring parameters from /data/jma/model/dataset_experiments/original_new_labels/model.ckpt-10000\n",
      "INFO:tensorflow:Running local_init_op.\n",
      "INFO:tensorflow:Done running local_init_op.\n"
     ]
    },
    {
     "data": {
      "image/png": "[encoded data removed]",
      "text/plain": [
       "<Figure size 432x288 with 2 Axes>"
      ]
     },
     "metadata": {},
     "output_type": "display_data"
    },
    {
     "name": "stdout",
     "output_type": "stream",
     "text": [
      "./data/generated_splits/train_set_balanced/eval/\n",
      "['data/generated_splits/train_set_balanced/eval/1/IM-0040-0029-0001.dcm.png', 'data/generated_splits/train_set_balanced/eval/1/IM-0052-0028-0001.dcm.png', 'data/generated_splits/train_set_balanced/eval/1/IM-0019-0003-0001.dcm.png', 'data/generated_splits/train_set_balanced/eval/1/IM-0063-0024-0001.dcm.png', 'data/generated_splits/train_set_balanced/eval/1/IM-0051-0026-0001.dcm.png']\n",
      "/data/jma/model/dataset_experiments/train_set_balanced/\n",
      "INFO:tensorflow:Using default config.\n",
      "INFO:tensorflow:Using config: {'_model_dir': '/data/jma/model/dataset_experiments/train_set_balanced/', '_tf_random_seed': None, '_save_summary_steps': 100, '_save_checkpoints_steps': None, '_save_checkpoints_secs': 600, '_session_config': allow_soft_placement: true\n",
      "graph_options {\n",
      "  rewrite_options {\n",
      "    meta_optimizer_iterations: ONE\n",
      "  }\n",
      "}\n",
      ", '_keep_checkpoint_max': 5, '_keep_checkpoint_every_n_hours': 10000, '_log_step_count_steps': 100, '_train_distribute': None, '_device_fn': None, '_protocol': None, '_eval_distribute': None, '_experimental_distribute': None, '_service': None, '_cluster_spec': <tensorflow.python.training.server_lib.ClusterSpec object at 0x7ff300f85ef0>, '_task_type': 'worker', '_task_id': 0, '_global_id_in_cluster': 0, '_master': '', '_evaluation_master': '', '_is_chief': True, '_num_ps_replicas': 0, '_num_worker_replicas': 1}\n",
      "INFO:tensorflow:Calling model_fn.\n",
      "in gpu part\n",
      "INFO:tensorflow:Done calling model_fn.\n",
      "INFO:tensorflow:Graph was finalized.\n",
      "INFO:tensorflow:Restoring parameters from /data/jma/model/dataset_experiments/train_set_balanced/model.ckpt-10000\n",
      "INFO:tensorflow:Running local_init_op.\n",
      "INFO:tensorflow:Done running local_init_op.\n"
     ]
    },
    {
     "data": {
      "image/png": "[encoded data removed]",
      "text/plain": [
       "<Figure size 432x288 with 2 Axes>"
      ]
     },
     "metadata": {},
     "output_type": "display_data"
    },
    {
     "name": "stdout",
     "output_type": "stream",
     "text": [
      "./data/generated_splits/whole_set_balanced/eval/\n",
      "['data/generated_splits/whole_set_balanced/eval/1/IM-0049-0016-0001.dcm.png', 'data/generated_splits/whole_set_balanced/eval/1/IM-0026-0015-0001.dcm.png', 'data/generated_splits/whole_set_balanced/eval/1/IM-0031-0005-0001.dcm.png', 'data/generated_splits/whole_set_balanced/eval/1/IM-0034-0016-0001.dcm.png', 'data/generated_splits/whole_set_balanced/eval/1/IM-0032-0030-0001.dcm.png']\n",
      "/data/jma/model/dataset_experiments/whole_set_balanced/\n",
      "INFO:tensorflow:Using default config.\n",
      "INFO:tensorflow:Using config: {'_model_dir': '/data/jma/model/dataset_experiments/whole_set_balanced/', '_tf_random_seed': None, '_save_summary_steps': 100, '_save_checkpoints_steps': None, '_save_checkpoints_secs': 600, '_session_config': allow_soft_placement: true\n",
      "graph_options {\n",
      "  rewrite_options {\n",
      "    meta_optimizer_iterations: ONE\n",
      "  }\n",
      "}\n",
      ", '_keep_checkpoint_max': 5, '_keep_checkpoint_every_n_hours': 10000, '_log_step_count_steps': 100, '_train_distribute': None, '_device_fn': None, '_protocol': None, '_eval_distribute': None, '_experimental_distribute': None, '_service': None, '_cluster_spec': <tensorflow.python.training.server_lib.ClusterSpec object at 0x7ff3f07e4470>, '_task_type': 'worker', '_task_id': 0, '_global_id_in_cluster': 0, '_master': '', '_evaluation_master': '', '_is_chief': True, '_num_ps_replicas': 0, '_num_worker_replicas': 1}\n",
      "INFO:tensorflow:Calling model_fn.\n",
      "in gpu part\n",
      "INFO:tensorflow:Done calling model_fn.\n",
      "INFO:tensorflow:Graph was finalized.\n",
      "INFO:tensorflow:Restoring parameters from /data/jma/model/dataset_experiments/whole_set_balanced/model.ckpt-10000\n",
      "INFO:tensorflow:Running local_init_op.\n",
      "INFO:tensorflow:Done running local_init_op.\n"
     ]
    },
    {
     "data": {
      "image/png": "[encoded data removed]",
      "text/plain": [
       "<Figure size 432x288 with 2 Axes>"
      ]
     },
     "metadata": {},
     "output_type": "display_data"
    }
   ],
   "source": [
    "%matplotlib inline\n",
    "\n",
    "tf.logging.set_verbosity(tf.logging.ERROR)\n",
    "\n",
    "import seaborn as sns\n",
    "import pandas as pd\n",
    "import matplotlib.pyplot as plt\n",
    "\n",
    "\n",
    "tf.logging.set_verbosity(tf.logging.INFO)\n",
    "tf.summary.FileWriterCache.clear()\n",
    "b_size = 32\n",
    "\n",
    "\n",
    "random_seed = 777\n",
    "\n",
    "convnet_checkpoint_path_base = \"/data/jma/model/dataset_experiments/\"\n",
    "\n",
    "# kernel_sizes = [7, 9, 10, 11, 13]\n",
    "# filter_sizes = [10]\n",
    "# snnl_weights = [0.0]\n",
    "\n",
    "kernel_sizes = [[10, 7, 3]]\n",
    "filter_sizes = [8]\n",
    "snnl_weights = [0.00]\n",
    "\n",
    "# data_root = \"./data/data_relabeled_png_synthetic/\"\n",
    "\n",
    "# image_paths = load_data_util.load_image_paths(data_root)\n",
    "# train_paths, eval_paths, test_paths = load_data_util.split(image_paths, seed=random_seed, split=[0.7, 0.1, 0.2])\n",
    "\n",
    "# train_input_fn = lambda : load_data_util.load(data_root, train_paths, training=True, augment=False, batch_size=32, shuffle=False)\n",
    "# eval_input_fn = lambda : load_data_util.load(data_root, eval_paths, training=False, augment=False, batch_size=32, shuffle=False)\n",
    "# test_input_fn = lambda : load_data_util.load(data_root, test_paths, training=False, augment=False, shuffle=False)\n",
    "\n",
    "\n",
    "dataset_root = \"./data/generated_splits/\"\n",
    "\n",
    "sets = [\"original_initial_labels\", \"original_new_labels\", \"train_set_balanced\", \"whole_set_balanced\" ]\n",
    "\n",
    "for dt_set in sets:\n",
    "    for filter_size in filter_sizes:\n",
    "        for kernel_size in kernel_sizes:\n",
    "\n",
    "            for snnl_weight in snnl_weights:\n",
    "                \n",
    "                eval_root = dataset_root + dt_set + \"/eval/\"\n",
    "                   \n",
    "                print(eval_root)\n",
    "            \n",
    "                eval_paths = load_data_util.load_image_paths(eval_root)\n",
    "                \n",
    "                print(eval_paths[:5])\n",
    "                \n",
    "                eval_input_fn = lambda : load_data_util.load(eval_root, eval_paths, training=False, augment=False, batch_size=32, shuffle=False)\n",
    "\n",
    "\n",
    "                model_path = convnet_checkpoint_path_base + dt_set +\"/\"\n",
    "                print(model_path)\n",
    "\n",
    "\n",
    "                model_fn = lambda features, labels, mode: convnet_model_fn(features, labels, mode, \n",
    "                                                                            conv_kernels=kernel_size, \n",
    "                                                                            num_channels=filter_size)\n",
    "                model = tf.estimator.Estimator(model_fn=model_fn, model_dir=model_path)\n",
    "\n",
    "                values = model.predict(eval_input_fn)\n",
    "\n",
    "\n",
    "                original_labels = path_to_label(eval_paths, eval_root)\n",
    "                predicted_labels = list(values)\n",
    "\n",
    "                cm = tf.confusion_matrix(original_labels, predicted_labels)\n",
    "                cm = tf.to_float(cm)\n",
    "\n",
    "                cm = cm.numpy()\n",
    "\n",
    "                row_sums = cm.sum(axis=1)\n",
    "                cm = cm / row_sums[:, np.newaxis]\n",
    "\n",
    "                df_cm = pd.DataFrame(cm, range(3), range(3))\n",
    "                #plt.figure(figsize = (10,7))\n",
    "\n",
    "                sns.set(font_scale=1)#for label size\n",
    "                plt.suptitle(dt_set)\n",
    "                ax = sns.heatmap(df_cm, annot=True,annot_kws={\"size\": 16}, vmin=0)# font size\n",
    "                ax.set(xlabel='predicted', ylabel='true')\n",
    "                plt.show()\n",
    "        \n",
    "\n"
   ]
  },
  {
   "cell_type": "markdown",
   "metadata": {},
   "source": [
    "## Incorrectly Classified Images (PNG Format)"
   ]
  },
  {
   "cell_type": "code",
   "execution_count": null,
   "metadata": {
    "ExecuteTime": {
     "start_time": "2019-08-01T06:27:14.823Z"
    },
    "scrolled": true
   },
   "outputs": [
    {
     "name": "stdout",
     "output_type": "stream",
     "text": [
      "/data/jma/model/relabeled_data/resnet4/kernel5_filter8_snnl0.0/\n",
      "in gpu part\n"
     ]
    },
    {
     "data": {
      "image/png": "[encoded data removed]",
      "text/plain": [
       "<PIL.Image.Image image mode=L size=256x256 at 0x7F3E6500FF98>"
      ]
     },
     "metadata": {},
     "output_type": "display_data"
    }
   ],
   "source": [
    "%matplotlib inline\n",
    "\n",
    "tf.logging.set_verbosity(tf.logging.ERROR)\n",
    "\n",
    "import seaborn as sn\n",
    "import pandas as pd\n",
    "import matplotlib.pyplot as plt\n",
    "from PIL import Image, ImageDraw, ImageFont\n",
    "\n",
    "resnet10_checkpoint_path_base = \"/data/jma/model/relabeled_data/resnet4/\"\n",
    "\n",
    "data_path = \"./data/data_relabeled_png//\"\n",
    "\n",
    "image_paths = load_image_paths(data_path)\n",
    "train_paths, eval_paths, test_paths = split(image_paths, seed=random_seed)\n",
    "\n",
    "\n",
    "train_input_fn = lambda : load(data_path, train_paths, training=True)\n",
    "eval_input_fn = lambda : load(data_path, eval_paths, training=False)\n",
    "test_input_fn = lambda : load(data_path, test_paths, training=False)\n",
    "\n",
    "# change these======\n",
    "working_paths = eval_paths\n",
    "working_input_fn = eval_input_fn\n",
    "\n",
    "kernel_size=5\n",
    "filter_size=8\n",
    "snnl_weight=0.0\n",
    "#=========\n",
    "\n",
    "model_path = resnet10_checkpoint_path_base + \"kernel\" + str(kernel_size) + \"_filter\" + str(filter_size) + \"_snnl\" + str(snnl_weight) + \"/\"\n",
    "print(model_path)\n",
    "\n",
    "model_fn = lambda features, labels, mode: resnet4_model_fn(features, labels, mode, \n",
    "                                                            conv_kernel=kernel_size, \n",
    "                                                            num_channels=filter_size)\n",
    "model = tf.estimator.Estimator(model_fn=model_fn, model_dir=model_path)\n",
    "\n",
    "values = model.predict(working_input_fn)\n",
    "\n",
    "original_labels = path_to_label(working_paths, data_path)\n",
    "predicted_labels = list(values)\n",
    "\n",
    "# make a plot?\n",
    "\n",
    "for index in range(len(working_paths)):\n",
    "    if original_labels[index] != predicted_labels[index]:\n",
    "        # add image to plot\n",
    "\n",
    "        img = Image.open(working_paths[index])\n",
    "        \n",
    "        basewidth = 256\n",
    "\n",
    "        wpercent = (basewidth/float(img.size[0]))\n",
    "        hsize = int((float(img.size[1])*float(wpercent)))\n",
    "        img = img.resize((basewidth,hsize), Image.ANTIALIAS)\n",
    "\n",
    "        \n",
    "        d = ImageDraw.Draw(img)\n",
    "        \n",
    "        # debug this shit\n",
    "        d.text((10,10), \"True: \" + str(original_labels[index]) + \n",
    "               \", Pred: \" + str(predicted_labels[index]), \n",
    "               fill=\"white\", font=ImageFont.truetype(\"./fonts/arial-bold.ttf\", 15))       \n",
    "                \n",
    "        display(img)\n",
    "    "
   ]
  },
  {
   "cell_type": "code",
   "execution_count": null,
   "metadata": {},
   "outputs": [],
   "source": []
  }
 ],
 "metadata": {
  "hide_input": false,
  "kernelspec": {
   "display_name": "Python 3",
   "language": "python",
   "name": "python3"
  },
  "language_info": {
   "codemirror_mode": {
    "name": "ipython",
    "version": 3
   },
   "file_extension": ".py",
   "mimetype": "text/x-python",
   "name": "python",
   "nbconvert_exporter": "python",
   "pygments_lexer": "ipython3",
   "version": "3.6.7"
  },
  "latex_envs": {
   "LaTeX_envs_menu_present": true,
   "autoclose": false,
   "autocomplete": true,
   "bibliofile": "biblio.bib",
   "cite_by": "apalike",
   "current_citInitial": 1,
   "eqLabelWithNumbers": true,
   "eqNumInitial": 1,
   "hotkeys": {
    "equation": "Ctrl-E",
    "itemize": "Ctrl-I"
   },
   "labels_anchors": false,
   "latex_user_defs": false,
   "report_style_numbering": false,
   "user_envs_cfg": false
  },
  "nbTranslate": {
   "displayLangs": [
    "en"
   ],
   "hotkey": "alt-t",
   "langInMainMenu": true,
   "sourceLang": "en",
   "targetLang": "fr",
   "useGoogleTranslate": true
  },
  "toc": {
   "base_numbering": 1,
   "nav_menu": {},
   "number_sections": true,
   "sideBar": true,
   "skip_h1_title": false,
   "title_cell": "Table of Contents",
   "title_sidebar": "Contents",
   "toc_cell": false,
   "toc_position": {},
   "toc_section_display": true,
   "toc_window_display": false
  },
  "varInspector": {
   "cols": {
    "lenName": 16,
    "lenType": 16,
    "lenVar": 40
   },
   "kernels_config": {
    "python": {
     "delete_cmd_postfix": "",
     "delete_cmd_prefix": "del ",
     "library": "var_list.py",
     "varRefreshCmd": "print(var_dic_list())"
    },
    "r": {
     "delete_cmd_postfix": ") ",
     "delete_cmd_prefix": "rm(",
     "library": "var_list.r",
     "varRefreshCmd": "cat(var_dic_list()) "
    }
   },
   "types_to_exclude": [
    "module",
    "function",
    "builtin_function_or_method",
    "instance",
    "_Feature"
   ],
   "window_display": false
  }
 },
 "nbformat": 4,
 "nbformat_minor": 2
}
