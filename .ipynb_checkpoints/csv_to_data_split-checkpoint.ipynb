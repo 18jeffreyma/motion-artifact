{
 "cells": [
  {
   "cell_type": "markdown",
   "metadata": {},
   "source": [
    "# Get Ratings from CSV"
   ]
  },
  {
   "cell_type": "code",
   "execution_count": 61,
   "metadata": {
    "ExecuteTime": {
     "end_time": "2019-08-14T22:08:27.871644Z",
     "start_time": "2019-08-14T22:08:27.855927Z"
    }
   },
   "outputs": [],
   "source": [
    "import csv\n",
    "\n",
    "def get_ratings_list(log_path):\n",
    "    \n",
    "    ratings_list = []\n",
    "    \n",
    "    with open(log_path) as csv_file:\n",
    "        csv_reader = csv.reader(csv_file, delimiter=',')\n",
    "\n",
    "        row_count = 0\n",
    "\n",
    "        for row in csv_reader:\n",
    "\n",
    "            # ignore column name row\n",
    "            if (row_count != 0):\n",
    "                \n",
    "                if (int(row[2]) > 2):\n",
    "                    ratings_list.append([row[1], 3])\n",
    "                else:\n",
    "                    \n",
    "                    ratings_list.append([row[1], int(row[2])])\n",
    "\n",
    "            row_count = row_count + 1\n",
    "        \n",
    "    return ratings_list\n"
   ]
  },
  {
   "cell_type": "markdown",
   "metadata": {},
   "source": [
    "# Generate Folder Structure from CSV"
   ]
  },
  {
   "cell_type": "code",
   "execution_count": 62,
   "metadata": {
    "ExecuteTime": {
     "end_time": "2019-08-14T22:08:41.640228Z",
     "start_time": "2019-08-14T22:08:31.235730Z"
    },
    "scrolled": false
   },
   "outputs": [
    {
     "name": "stdout",
     "output_type": "stream",
     "text": [
      "using rater log: ratings_ali.csv\n",
      "outputting to: ./data/generated_sets/ali_labels/\n",
      "progress: 0/2111\n",
      "[Errno 2] No such file or directory: './data/generated_sets/ali_labels/3/IM-0022-0025-0001.dcm.png'\n",
      "./data/data_pool_dicom/IM-0022-0025-0001.dcm\n",
      "progress: 100/2111\n",
      "progress: 200/2111\n",
      "progress: 300/2111\n",
      "progress: 400/2111\n",
      "progress: 500/2111\n",
      "progress: 600/2111\n",
      "[Errno 2] No such file or directory: './data/generated_sets/ali_labels/3/IM-0070-0005-0001.dcm.png'\n",
      "./data/data_pool_dicom/IM-0070-0005-0001.dcm\n"
     ]
    },
    {
     "ename": "KeyboardInterrupt",
     "evalue": "",
     "output_type": "error",
     "traceback": [
      "\u001b[0;31m---------------------------------------------------------------------------\u001b[0m",
      "\u001b[0;31mKeyboardInterrupt\u001b[0m                         Traceback (most recent call last)",
      "\u001b[0;32m<ipython-input-62-a454722224b1>\u001b[0m in \u001b[0;36m<module>\u001b[0;34m()\u001b[0m\n\u001b[1;32m     45\u001b[0m             \u001b[0;32mtry\u001b[0m\u001b[0;34m:\u001b[0m\u001b[0;34m\u001b[0m\u001b[0;34m\u001b[0m\u001b[0m\n\u001b[1;32m     46\u001b[0m                 mritopng.convert_file(data_pool_path + elem[0],  \n\u001b[0;32m---> 47\u001b[0;31m                                       output_dir + output_path + str(elem[1]) + \"/\" + elem[0] + \".png\")\n\u001b[0m\u001b[1;32m     48\u001b[0m \u001b[0;34m\u001b[0m\u001b[0m\n\u001b[1;32m     49\u001b[0m             \u001b[0;32mexcept\u001b[0m \u001b[0mException\u001b[0m \u001b[0;32mas\u001b[0m \u001b[0merr\u001b[0m\u001b[0;34m:\u001b[0m\u001b[0;34m\u001b[0m\u001b[0;34m\u001b[0m\u001b[0m\n",
      "\u001b[0;32m/home_local/jma/.local/lib/python3.6/site-packages/mritopng/__init__.py\u001b[0m in \u001b[0;36mconvert_file\u001b[0;34m(mri_file_path, png_file_path, auto_contrast)\u001b[0m\n\u001b[1;32m     59\u001b[0m     \u001b[0mpng_file\u001b[0m \u001b[0;34m=\u001b[0m \u001b[0mopen\u001b[0m\u001b[0;34m(\u001b[0m\u001b[0mpng_file_path\u001b[0m\u001b[0;34m,\u001b[0m \u001b[0;34m'wb'\u001b[0m\u001b[0;34m)\u001b[0m\u001b[0;34m\u001b[0m\u001b[0;34m\u001b[0m\u001b[0m\n\u001b[1;32m     60\u001b[0m \u001b[0;34m\u001b[0m\u001b[0m\n\u001b[0;32m---> 61\u001b[0;31m     \u001b[0mmri_to_png\u001b[0m\u001b[0;34m(\u001b[0m\u001b[0mmri_file\u001b[0m\u001b[0;34m,\u001b[0m \u001b[0mpng_file\u001b[0m\u001b[0;34m,\u001b[0m \u001b[0mauto_contrast\u001b[0m\u001b[0;34m)\u001b[0m\u001b[0;34m\u001b[0m\u001b[0;34m\u001b[0m\u001b[0m\n\u001b[0m\u001b[1;32m     62\u001b[0m \u001b[0;34m\u001b[0m\u001b[0m\n\u001b[1;32m     63\u001b[0m     \u001b[0mpng_file\u001b[0m\u001b[0;34m.\u001b[0m\u001b[0mclose\u001b[0m\u001b[0;34m(\u001b[0m\u001b[0;34m)\u001b[0m\u001b[0;34m\u001b[0m\u001b[0;34m\u001b[0m\u001b[0m\n",
      "\u001b[0;32m/home_local/jma/.local/lib/python3.6/site-packages/mritopng/__init__.py\u001b[0m in \u001b[0;36mmri_to_png\u001b[0;34m(mri_file, png_file, do_auto_contrast)\u001b[0m\n\u001b[1;32m     20\u001b[0m     \u001b[0;31m# Writing the PNG file\u001b[0m\u001b[0;34m\u001b[0m\u001b[0;34m\u001b[0m\u001b[0;34m\u001b[0m\u001b[0m\n\u001b[1;32m     21\u001b[0m     \u001b[0mw\u001b[0m \u001b[0;34m=\u001b[0m \u001b[0mpng\u001b[0m\u001b[0;34m.\u001b[0m\u001b[0mWriter\u001b[0m\u001b[0;34m(\u001b[0m\u001b[0mimage_2d\u001b[0m\u001b[0;34m.\u001b[0m\u001b[0mwidth\u001b[0m\u001b[0;34m,\u001b[0m \u001b[0mimage_2d\u001b[0m\u001b[0;34m.\u001b[0m\u001b[0mheight\u001b[0m\u001b[0;34m,\u001b[0m \u001b[0mgreyscale\u001b[0m\u001b[0;34m=\u001b[0m\u001b[0;32mTrue\u001b[0m\u001b[0;34m)\u001b[0m\u001b[0;34m\u001b[0m\u001b[0;34m\u001b[0m\u001b[0m\n\u001b[0;32m---> 22\u001b[0;31m     \u001b[0mw\u001b[0m\u001b[0;34m.\u001b[0m\u001b[0mwrite\u001b[0m\u001b[0;34m(\u001b[0m\u001b[0mpng_file\u001b[0m\u001b[0;34m,\u001b[0m \u001b[0mimage_2d\u001b[0m\u001b[0;34m.\u001b[0m\u001b[0mimage\u001b[0m\u001b[0;34m)\u001b[0m\u001b[0;34m\u001b[0m\u001b[0;34m\u001b[0m\u001b[0m\n\u001b[0m\u001b[1;32m     23\u001b[0m \u001b[0;34m\u001b[0m\u001b[0m\n\u001b[1;32m     24\u001b[0m \u001b[0;32mdef\u001b[0m \u001b[0mextract_grayscale_image\u001b[0m\u001b[0;34m(\u001b[0m\u001b[0mmri_file\u001b[0m\u001b[0;34m)\u001b[0m\u001b[0;34m:\u001b[0m\u001b[0;34m\u001b[0m\u001b[0;34m\u001b[0m\u001b[0m\n",
      "\u001b[0;32m/home_local/jma/.local/lib/python3.6/site-packages/png.py\u001b[0m in \u001b[0;36mwrite\u001b[0;34m(self, outfile, rows)\u001b[0m\n\u001b[1;32m    668\u001b[0m             \u001b[0;32mreturn\u001b[0m \u001b[0mself\u001b[0m\u001b[0;34m.\u001b[0m\u001b[0mwrite_array\u001b[0m\u001b[0;34m(\u001b[0m\u001b[0moutfile\u001b[0m\u001b[0;34m,\u001b[0m \u001b[0ma\u001b[0m\u001b[0;34m)\u001b[0m\u001b[0;34m\u001b[0m\u001b[0;34m\u001b[0m\u001b[0m\n\u001b[1;32m    669\u001b[0m \u001b[0;34m\u001b[0m\u001b[0m\n\u001b[0;32m--> 670\u001b[0;31m         \u001b[0mnrows\u001b[0m \u001b[0;34m=\u001b[0m \u001b[0mself\u001b[0m\u001b[0;34m.\u001b[0m\u001b[0mwrite_passes\u001b[0m\u001b[0;34m(\u001b[0m\u001b[0moutfile\u001b[0m\u001b[0;34m,\u001b[0m \u001b[0mcheck_rows\u001b[0m\u001b[0;34m(\u001b[0m\u001b[0mrows\u001b[0m\u001b[0;34m)\u001b[0m\u001b[0;34m)\u001b[0m\u001b[0;34m\u001b[0m\u001b[0;34m\u001b[0m\u001b[0m\n\u001b[0m\u001b[1;32m    671\u001b[0m         \u001b[0;32mif\u001b[0m \u001b[0mnrows\u001b[0m \u001b[0;34m!=\u001b[0m \u001b[0mself\u001b[0m\u001b[0;34m.\u001b[0m\u001b[0mheight\u001b[0m\u001b[0;34m:\u001b[0m\u001b[0;34m\u001b[0m\u001b[0;34m\u001b[0m\u001b[0m\n\u001b[1;32m    672\u001b[0m             raise ProtocolError(\n",
      "\u001b[0;32m/home_local/jma/.local/lib/python3.6/site-packages/png.py\u001b[0m in \u001b[0;36mwrite_passes\u001b[0;34m(self, outfile, rows)\u001b[0m\n\u001b[1;32m    702\u001b[0m             \u001b[0mrows\u001b[0m \u001b[0;34m=\u001b[0m \u001b[0munpack_rows\u001b[0m\u001b[0;34m(\u001b[0m\u001b[0mrows\u001b[0m\u001b[0;34m)\u001b[0m\u001b[0;34m\u001b[0m\u001b[0;34m\u001b[0m\u001b[0m\n\u001b[1;32m    703\u001b[0m \u001b[0;34m\u001b[0m\u001b[0m\n\u001b[0;32m--> 704\u001b[0;31m         \u001b[0;32mreturn\u001b[0m \u001b[0mself\u001b[0m\u001b[0;34m.\u001b[0m\u001b[0mwrite_packed\u001b[0m\u001b[0;34m(\u001b[0m\u001b[0moutfile\u001b[0m\u001b[0;34m,\u001b[0m \u001b[0mrows\u001b[0m\u001b[0;34m)\u001b[0m\u001b[0;34m\u001b[0m\u001b[0;34m\u001b[0m\u001b[0m\n\u001b[0m\u001b[1;32m    705\u001b[0m \u001b[0;34m\u001b[0m\u001b[0m\n\u001b[1;32m    706\u001b[0m     \u001b[0;32mdef\u001b[0m \u001b[0mwrite_packed\u001b[0m\u001b[0;34m(\u001b[0m\u001b[0mself\u001b[0m\u001b[0;34m,\u001b[0m \u001b[0moutfile\u001b[0m\u001b[0;34m,\u001b[0m \u001b[0mrows\u001b[0m\u001b[0;34m)\u001b[0m\u001b[0;34m:\u001b[0m\u001b[0;34m\u001b[0m\u001b[0;34m\u001b[0m\u001b[0m\n",
      "\u001b[0;32m/home_local/jma/.local/lib/python3.6/site-packages/png.py\u001b[0m in \u001b[0;36mwrite_packed\u001b[0;34m(self, outfile, rows)\u001b[0m\n\u001b[1;32m    751\u001b[0m                 \u001b[0mdata\u001b[0m \u001b[0;34m=\u001b[0m \u001b[0mbytearray\u001b[0m\u001b[0;34m(\u001b[0m\u001b[0;34m)\u001b[0m\u001b[0;34m\u001b[0m\u001b[0;34m\u001b[0m\u001b[0m\n\u001b[1;32m    752\u001b[0m \u001b[0;34m\u001b[0m\u001b[0m\n\u001b[0;32m--> 753\u001b[0;31m         \u001b[0mcompressed\u001b[0m \u001b[0;34m=\u001b[0m \u001b[0mcompressor\u001b[0m\u001b[0;34m.\u001b[0m\u001b[0mcompress\u001b[0m\u001b[0;34m(\u001b[0m\u001b[0mbytes\u001b[0m\u001b[0;34m(\u001b[0m\u001b[0mdata\u001b[0m\u001b[0;34m)\u001b[0m\u001b[0;34m)\u001b[0m\u001b[0;34m\u001b[0m\u001b[0;34m\u001b[0m\u001b[0m\n\u001b[0m\u001b[1;32m    754\u001b[0m         \u001b[0mflushed\u001b[0m \u001b[0;34m=\u001b[0m \u001b[0mcompressor\u001b[0m\u001b[0;34m.\u001b[0m\u001b[0mflush\u001b[0m\u001b[0;34m(\u001b[0m\u001b[0;34m)\u001b[0m\u001b[0;34m\u001b[0m\u001b[0;34m\u001b[0m\u001b[0m\n\u001b[1;32m    755\u001b[0m         \u001b[0;32mif\u001b[0m \u001b[0mlen\u001b[0m\u001b[0;34m(\u001b[0m\u001b[0mcompressed\u001b[0m\u001b[0;34m)\u001b[0m \u001b[0;32mor\u001b[0m \u001b[0mlen\u001b[0m\u001b[0;34m(\u001b[0m\u001b[0mflushed\u001b[0m\u001b[0;34m)\u001b[0m\u001b[0;34m:\u001b[0m\u001b[0;34m\u001b[0m\u001b[0;34m\u001b[0m\u001b[0m\n",
      "\u001b[0;31mKeyboardInterrupt\u001b[0m: "
     ]
    }
   ],
   "source": [
    "import shutil\n",
    "import mritopng\n",
    "import os\n",
    "\n",
    "\n",
    "#####------ ADJUST SETTINGS BELOW ------#####\n",
    "\n",
    "log_path = \"./data/logs/\"\n",
    "data_pool_path = \"./data/data_pool_dicom/\"\n",
    "output_dir = \"./data/generated_sets/\"\n",
    "\n",
    "rater_log_paths = [\"ratings_ali.csv\", \"ratings_peter.csv\"]\n",
    "output_paths = [\"ali_labels/\", \"peter_labels/\"]\n",
    "\n",
    "\n",
    "#####------ ADJUST SETTINGS ABOVE ------#####\n",
    "\n",
    "\n",
    "for rater_log, output_path in zip(rater_log_paths, output_paths):\n",
    "    \n",
    "    print(\"using rater log: \" + rater_log)\n",
    "    print(\"outputting to: \" + output_dir + output_path)\n",
    "    \n",
    "    if os.path.exists(output_dir + output_path):\n",
    "        shutil.rmtree(output_dir + output_path)\n",
    "    os.mkdir(output_dir + output_path)\n",
    "\n",
    "    os.mkdir(output_dir + output_path + \"0/\")\n",
    "    os.mkdir(output_dir + output_path + \"1/\")\n",
    "    os.mkdir(output_dir + output_path + \"2/\")\n",
    "\n",
    "    ratings = get_ratings_list(log_path + rater_log)\n",
    "    \n",
    "    total_len = len(ratings)\n",
    "    count = 0\n",
    "    \n",
    "    for elem in ratings:\n",
    "\n",
    "        if (count % 100 == 0):\n",
    "            print(\"progress: \" + str(count) + \"/\" + str(total_len))\n",
    "\n",
    "\n",
    "        if (elem[1] != 100):\n",
    "            \n",
    "            try:\n",
    "                mritopng.convert_file(data_pool_path + elem[0],  \n",
    "                                      output_dir + output_path + str(elem[1]) + \"/\" + elem[0] + \".png\")\n",
    "\n",
    "            except Exception as err:\n",
    "                \n",
    "                print(err)\n",
    "                print(data_pool_path + elem[0])\n",
    "            \n",
    "            \n",
    "        count = count + 1\n",
    "\n",
    "# above seems to take care of contrast as well\n",
    "        \n",
    "    "
   ]
  },
  {
   "cell_type": "markdown",
   "metadata": {},
   "source": [
    "# Split into Train, Eval, Test"
   ]
  },
  {
   "cell_type": "code",
   "execution_count": null,
   "metadata": {},
   "outputs": [],
   "source": [
    "import load_data_utility\n",
    "import shutil\n",
    "import os\n",
    "import pathlib\n",
    "\n",
    "#####------ ADJUST SETTINGS BELOW ------#####\n",
    "\n",
    "data_root = \"./data/original_data/data_relabeled_undersampled_png/\"\n",
    "output_folter = \"./data/generated_splits/undersampled/\"\n",
    "split_ratios = [0.7, 0.1, 0.2]\n",
    "\n",
    "#####------ ADJUST SETTINGS ABOVE ------#####\n",
    "\n",
    "image_paths = load_data_utility.load_image_paths(data_root)\n",
    "\n",
    "print(image_paths[:5])\n",
    "\n",
    "train_paths, eval_paths, test_paths = load_data_utility.split(image_paths, split=split_ratios, seed=777)\n",
    "\n",
    "def get_label(path):\n",
    "    \n",
    "    path_location = pathlib.Path(path)\n",
    "    \n",
    "    str1 = str(path_location.parents[0])\n",
    "    str2 = str(path_location.parents[1])\n",
    "    \n",
    "    \n",
    "    retval = str1.replace(str2, '')\n",
    "    retval = retval.replace(\"/\", '')\n",
    "    \n",
    "    return retval\n",
    "\n",
    "\n",
    "print(train_paths[0])\n",
    "print(get_label(train_paths[0]))\n",
    "\n",
    "if os.path.exists(output_folter):\n",
    "    shutil.rmtree(output_folter)\n",
    "    \n",
    "os.mkdir(output_folter)\n",
    "os.mkdir(output_folter + \"train/\")\n",
    "os.mkdir(output_folter + \"eval/\")\n",
    "os.mkdir(output_folter + \"test/\")\n",
    "os.mkdir(output_folter + \"train/0/\")\n",
    "os.mkdir(output_folter + \"train/1/\")\n",
    "os.mkdir(output_folter + \"train/2/\")\n",
    "os.mkdir(output_folter + \"eval/0/\")\n",
    "os.mkdir(output_folter + \"eval/1/\")\n",
    "os.mkdir(output_folter + \"eval/2/\")\n",
    "os.mkdir(output_folter + \"test/0/\")\n",
    "os.mkdir(output_folter + \"test/1/\")\n",
    "os.mkdir(output_folter + \"test/2/\")\n",
    "\n",
    "\n",
    "for pngfile in train_paths:\n",
    "    shutil.copy(pngfile, output_folter + \"train/\" + get_label(pngfile) + \"/\" )\n",
    "\n",
    "for pngfile in eval_paths:\n",
    "    shutil.copy(pngfile, output_folter + \"eval/\" + get_label(pngfile) + \"/\" )\n",
    "    \n",
    "for pngfile in test_paths:\n",
    "    shutil.copy(pngfile, output_folter + \"test/\" + get_label(pngfile) + \"/\" )\n"
   ]
  },
  {
   "cell_type": "markdown",
   "metadata": {},
   "source": [
    "# Dataset Balancing"
   ]
  },
  {
   "cell_type": "markdown",
   "metadata": {},
   "source": [
    "## Balancing Utility Functions"
   ]
  },
  {
   "cell_type": "code",
   "execution_count": null,
   "metadata": {},
   "outputs": [],
   "source": [
    "import pathlib\n",
    "import random\n",
    "\n",
    "# load an array of image paths\n",
    "def load_sorted_paths(path):\n",
    "    \n",
    "    data_root = pathlib.Path(path)\n",
    "    \n",
    "    paths = []\n",
    "    \n",
    "    for child in data_root.iterdir():\n",
    "        if (child.is_dir() and child.name != \".DS_Store\"):\n",
    "            print(child)\n",
    "            \n",
    "            subdir_paths = list(child.glob('**/*'))\n",
    "            subdir_paths = [str(path) for path in subdir_paths if path.name != \".DS_Store\"]\n",
    "        \n",
    "            paths.append(subdir_paths)\n",
    "    \n",
    "    return paths\n",
    "\n",
    "\n",
    "# load an array of image paths\n",
    "def load_dir_paths(path):\n",
    "    \n",
    "    data_root = pathlib.Path(path)\n",
    "    \n",
    "    paths = []\n",
    "    \n",
    "    for child in data_root.iterdir():\n",
    "        if (child.name != \".DS_Store\"):\n",
    "         \n",
    "            paths.append(str(child))\n",
    "    \n",
    "    return paths"
   ]
  },
  {
   "cell_type": "markdown",
   "metadata": {
    "heading_collapsed": true
   },
   "source": [
    "## Inserting Noisy Images"
   ]
  },
  {
   "cell_type": "code",
   "execution_count": null,
   "metadata": {
    "hidden": true
   },
   "outputs": [],
   "source": [
    "import synthetic_motion_utility as synth\n",
    "import imageio\n",
    "\n",
    "input_data_dir = \"./data/generated_splits/train_set_balanced/train/1/\"\n",
    "output_data_dir = \"./data/generated_splits/train_set_balanced/train/0/\"\n",
    "\n",
    "all_image_paths = load_dir_paths(input_data_dir)\n",
    "\n",
    "num_synthetic = 400\n",
    "counter = 0\n",
    "\n",
    "random.seed(a=777)\n",
    "random.shuffle(all_image_paths)\n",
    "\n",
    "while counter < num_synthetic:\n",
    "    \n",
    "    im = imageio.imread(all_image_paths[counter])\n",
    "    \n",
    "    im = synth.add_motion_artifact(im, seed=counter)\n",
    "    \n",
    "    imageio.imwrite(output_data_dir + \"synthetic_\" + str(counter) + \".png\", im)\n",
    "    \n",
    "    counter = counter + 1"
   ]
  },
  {
   "cell_type": "markdown",
   "metadata": {
    "heading_collapsed": true
   },
   "source": [
    "## Oversampling 2-Label Images"
   ]
  },
  {
   "cell_type": "code",
   "execution_count": null,
   "metadata": {
    "hidden": true
   },
   "outputs": [],
   "source": [
    "import os, glob, shutil\n",
    "\n",
    "data_root_2 = \"./data/generated_splits/train_set_balanced/train/2/\"\n",
    "image_paths_2 = load_dir_paths(data_root_2)\n",
    "\n",
    "print(image_paths_2[:10])\n",
    "\n",
    "for filename in glob.glob(data_root_2 + \"duplicate*\"):\n",
    "    os.remove(filename) \n",
    "\n",
    "counter = 0\n",
    "for pngfile in image_paths_2:\n",
    "    shutil.copy(pngfile, data_root_2 + \"duplicate_\" +  str(counter) + \".png\" )\n",
    "    counter = counter + 1\n"
   ]
  },
  {
   "cell_type": "markdown",
   "metadata": {
    "heading_collapsed": true
   },
   "source": [
    "## Undersampling Images"
   ]
  },
  {
   "cell_type": "code",
   "execution_count": null,
   "metadata": {
    "hidden": true
   },
   "outputs": [],
   "source": [
    "import os\n",
    "import random\n",
    "\n",
    "random.seed(a=777)\n",
    "\n",
    "data_root = \"./data/original_data/data_relabeled_undersampled_png/\"\n",
    "\n",
    "data_root = data_root + \"1/\"\n",
    "\n",
    "paths_in_dir = load_dir_paths(data_root)\n",
    "\n",
    "random.shuffle(paths_in_dir)\n",
    "\n",
    "print(paths_in_dir[:10])\n",
    "\n",
    "random.seed(a=777)\n",
    "\n",
    "for path in paths_in_dir:\n",
    "    \n",
    "    if (random.choice([True, False])):\n",
    "        print(\"removing: \" + path)\n",
    "        os.remove(path)"
   ]
  }
 ],
 "metadata": {
  "hide_input": false,
  "kernelspec": {
   "display_name": "Python 3",
   "language": "python",
   "name": "python3"
  },
  "language_info": {
   "codemirror_mode": {
    "name": "ipython",
    "version": 3
   },
   "file_extension": ".py",
   "mimetype": "text/x-python",
   "name": "python",
   "nbconvert_exporter": "python",
   "pygments_lexer": "ipython3",
   "version": "3.6.7"
  },
  "latex_envs": {
   "LaTeX_envs_menu_present": true,
   "autoclose": false,
   "autocomplete": true,
   "bibliofile": "biblio.bib",
   "cite_by": "apalike",
   "current_citInitial": 1,
   "eqLabelWithNumbers": true,
   "eqNumInitial": 1,
   "hotkeys": {
    "equation": "Ctrl-E",
    "itemize": "Ctrl-I"
   },
   "labels_anchors": false,
   "latex_user_defs": false,
   "report_style_numbering": false,
   "user_envs_cfg": false
  },
  "nbTranslate": {
   "displayLangs": [
    "*"
   ],
   "hotkey": "alt-t",
   "langInMainMenu": true,
   "sourceLang": "en",
   "targetLang": "fr",
   "useGoogleTranslate": true
  },
  "toc": {
   "base_numbering": 1,
   "nav_menu": {},
   "number_sections": true,
   "sideBar": true,
   "skip_h1_title": false,
   "title_cell": "Table of Contents",
   "title_sidebar": "Contents",
   "toc_cell": false,
   "toc_position": {},
   "toc_section_display": true,
   "toc_window_display": false
  },
  "varInspector": {
   "cols": {
    "lenName": 16,
    "lenType": 16,
    "lenVar": 40
   },
   "kernels_config": {
    "python": {
     "delete_cmd_postfix": "",
     "delete_cmd_prefix": "del ",
     "library": "var_list.py",
     "varRefreshCmd": "print(var_dic_list())"
    },
    "r": {
     "delete_cmd_postfix": ") ",
     "delete_cmd_prefix": "rm(",
     "library": "var_list.r",
     "varRefreshCmd": "cat(var_dic_list()) "
    }
   },
   "types_to_exclude": [
    "module",
    "function",
    "builtin_function_or_method",
    "instance",
    "_Feature"
   ],
   "window_display": false
  }
 },
 "nbformat": 4,
 "nbformat_minor": 2
}
