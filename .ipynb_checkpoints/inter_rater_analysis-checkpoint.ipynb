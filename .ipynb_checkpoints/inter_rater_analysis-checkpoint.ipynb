{
 "cells": [
  {
   "cell_type": "markdown",
   "metadata": {},
   "source": [
    "# Get Ratings List"
   ]
  },
  {
   "cell_type": "code",
   "execution_count": 122,
   "metadata": {
    "ExecuteTime": {
     "end_time": "2019-08-15T00:30:49.717283Z",
     "start_time": "2019-08-15T00:30:49.655401Z"
    }
   },
   "outputs": [],
   "source": [
    "import csv\n",
    "import tensorflow as tf\n",
    "tf.enable_eager_execution()\n",
    "\n",
    "def get_ratings_list(log_path, name_index=1, label_index=2, sort=True):\n",
    "    \n",
    "    ratings_list = []\n",
    "    \n",
    "    already_included = []\n",
    "    \n",
    "    with open(log_path) as csv_file:\n",
    "        csv_reader = csv.reader(csv_file, delimiter=',')\n",
    "\n",
    "        row_count = 0\n",
    "\n",
    "        for row in csv_reader:\n",
    "            \n",
    "            # ignore column name row\n",
    "            if (row_count != 0):\n",
    "                \n",
    "                if (int(row[label_index]) > 2):\n",
    "                    ratings_list.append([row[name_index], 3])\n",
    "                else:\n",
    "                    \n",
    "                    ratings_list.append([row[name_index], int(row[label_index])])\n",
    "\n",
    "            row_count = row_count + 1\n",
    "    \n",
    "    if (sort):\n",
    "        ratings_list = sorted(ratings_list, key=(lambda x: x[0]))    \n",
    "    \n",
    "    return ratings_list\n",
    "\n",
    "def get_indexed_ratings(log_path, name_index=1, label_index=2, sort=True):\n",
    "\n",
    "    ratings = get_ratings_list(log_path, name_index=name_index, label_index=label_index, sort=sort)\n",
    "    \n",
    "    ratings_indexed = lst = [[] for _ in range(4)]\n",
    "\n",
    "    for rating in ratings:\n",
    "\n",
    "        ratings_indexed[rating[1]].append(rating[0])\n",
    "\n",
    "    return ratings_indexed\n",
    "\n",
    "\n",
    "\n",
    "def display_cm(y1, y2, title=\"inter-rater variability\", axis_titles=[\"y1\", \"y2\"], ck=True, remove_unlabeled=True):\n",
    "    cm = tf.confusion_matrix(y1, y2)\n",
    "    cm = tf.to_float(cm)\n",
    "    cm = cm/len(y1)\n",
    "    \n",
    "    cm = cm.numpy()\n",
    "    \n",
    "    # row_sums = cm.sum(axis=1)\n",
    "    # cm = cm / row_sums[:, np.newaxis]\n",
    "\n",
    "    if (remove_unlabeled):\n",
    "        \n",
    "        cm = cm[0:3, 0:3]\n",
    "        df_cm = pd.DataFrame(cm, range(3), range(3))\n",
    "        \n",
    "    else:\n",
    "        df_cm = pd.DataFrame(cm, range(4), range(4))\n",
    "\n",
    "    #plt.figure(figsize = (10,7))\n",
    "\n",
    "    sns.set(font_scale=1)#for label size\n",
    "\n",
    "    cohen_kappa = sklearn.metrics.cohen_kappa_score(y1, y2)\n",
    "\n",
    "    if (ck):\n",
    "        plt.suptitle(title + \" (k: \" + str('%.3f'%(cohen_kappa)) + \")\")\n",
    "    else:\n",
    "        plt.suptitle(title)\n",
    "\n",
    "    ax = sns.heatmap(df_cm, annot=True,annot_kws={\"size\": 16})# font size\n",
    "    ax.set(xlabel=axis_titles[1], ylabel=axis_titles[0])\n",
    "    plt.show()"
   ]
  },
  {
   "cell_type": "markdown",
   "metadata": {},
   "source": [
    "# Inter-rater Variability (Fellows) (Peter vs. Ali)"
   ]
  },
  {
   "cell_type": "code",
   "execution_count": 123,
   "metadata": {
    "ExecuteTime": {
     "end_time": "2019-08-15T00:30:49.946511Z",
     "start_time": "2019-08-15T00:30:49.718969Z"
    },
    "scrolled": false
   },
   "outputs": [
    {
     "name": "stdout",
     "output_type": "stream",
     "text": [
      "[['IM-0001-0001-0001.dcm', 1], ['IM-0001-0002-0001.dcm', 1], ['IM-0001-0003-0001.dcm', 2], ['IM-0001-0004-0001.dcm', 1], ['IM-0001-0005-0001.dcm', 1], ['IM-0001-0006-0001.dcm', 1], ['IM-0001-0007-0001.dcm', 1], ['IM-0001-0008-0001.dcm', 1], ['IM-0001-0009-0001.dcm', 1], ['IM-0001-0010-0001.dcm', 1], ['IM-0001-0011-0001.dcm', 1], ['IM-0001-0012-0001.dcm', 1], ['IM-0001-0013-0001.dcm', 1], ['IM-0001-0014-0001.dcm', 1], ['IM-0001-0015-0001.dcm', 1], ['IM-0001-0016-0001.dcm', 1], ['IM-0001-0017-0001.dcm', 2], ['IM-0001-0018-0001.dcm', 1], ['IM-0001-0019-0001.dcm', 1], ['IM-0001-0020-0001.dcm', 1]]\n",
      "[['IM-0001-0001-0001.dcm', 2], ['IM-0001-0002-0001.dcm', 1], ['IM-0001-0003-0001.dcm', 1], ['IM-0001-0004-0001.dcm', 1], ['IM-0001-0005-0001.dcm', 1], ['IM-0001-0006-0001.dcm', 1], ['IM-0001-0007-0001.dcm', 1], ['IM-0001-0008-0001.dcm', 1], ['IM-0001-0009-0001.dcm', 1], ['IM-0001-0010-0001.dcm', 1], ['IM-0001-0011-0001.dcm', 1], ['IM-0001-0012-0001.dcm', 1], ['IM-0001-0013-0001.dcm', 1], ['IM-0001-0014-0001.dcm', 1], ['IM-0001-0015-0001.dcm', 1], ['IM-0001-0016-0001.dcm', 1], ['IM-0001-0017-0001.dcm', 1], ['IM-0001-0018-0001.dcm', 2], ['IM-0001-0019-0001.dcm', 2], ['IM-0001-0020-0001.dcm', 1]]\n",
      "2111\n",
      "2111\n",
      "2111\n",
      "2111\n"
     ]
    },
    {
     "data": {
      "image/png": "[encoded data removed]",
      "text/plain": [
       "<Figure size 432x288 with 2 Axes>"
      ]
     },
     "metadata": {},
     "output_type": "display_data"
    }
   ],
   "source": [
    "\n",
    "%matplotlib inline\n",
    "\n",
    "import numpy as np\n",
    "import seaborn as sns\n",
    "import pandas as pd\n",
    "import matplotlib.pyplot as plt\n",
    "import sklearn.metrics\n",
    "\n",
    "\n",
    "log_path_ali = \"./data/logs/ratings_ali.csv\"\n",
    "log_path_peter = \"./data/logs/ratings_peter.csv\"\n",
    "\n",
    "ratings_ali = get_ratings_list(log_path_ali, label_index=3)\n",
    "ratings_peter = get_ratings_list(log_path_peter, label_index=3)\n",
    "\n",
    "print(ratings_ali[:20])\n",
    "print(ratings_peter[:20])\n",
    "\n",
    "print(len(ratings_ali))\n",
    "print(len(ratings_peter))\n",
    "\n",
    "#check if length of two 2d arrays are the same\n",
    "\n",
    "ali_labels = [rating[1] for rating in ratings_ali]\n",
    "peter_labels = [rating[1] for rating in ratings_peter]\n",
    "\n",
    "\n",
    "print(len(ali_labels))\n",
    "print(len(peter_labels))\n",
    "\n",
    "display_cm(ali_labels, peter_labels, axis_titles=[\"ali\", \"peter\"])"
   ]
  },
  {
   "cell_type": "markdown",
   "metadata": {},
   "source": [
    "# Techs vs. Fellows"
   ]
  },
  {
   "cell_type": "code",
   "execution_count": 124,
   "metadata": {
    "ExecuteTime": {
     "end_time": "2019-08-15T00:30:49.994738Z",
     "start_time": "2019-08-15T00:30:49.948655Z"
    },
    "scrolled": true
   },
   "outputs": [
    {
     "name": "stdout",
     "output_type": "stream",
     "text": [
      "collision: IM-0004-0006-0001.dcm\n",
      "collision: IM-0004-0009-0001.dcm\n",
      "collision: IM-0005-0006-0001.dcm\n",
      "collision: IM-0006-0008-0001.dcm\n",
      "collision: IM-0007-0013-0001.dcm\n",
      "collision: IM-0013-0020-0001.dcm\n",
      "collision: IM-0014-0017-0001.dcm\n",
      "collision: IM-0016-0022-0001.dcm\n",
      "collision: IM-0025-0018-0001.dcm\n",
      "collision: IM-0025-0018-0001.dcm\n",
      "collision: IM-0025-0020-0001.dcm\n",
      "collision: IM-0028-0002-0001.dcm\n",
      "collision: IM-0030-0022-0001.dcm\n",
      "collision: IM-0031-0006-0001.dcm\n",
      "collision: IM-0036-0007-0001.dcm\n",
      "collision: IM-0038-0011-0001.dcm\n",
      "collision: IM-0038-0011-0001.dcm\n",
      "collision: IM-0038-0022-0001.dcm\n",
      "collision: IM-0049-0003-0001.dcm\n",
      "collision: IM-0053-0014-0001.dcm\n",
      "collision: IM-0059-0001-0001.dcm\n",
      "collision: IM-0061-0028-0001.dcm\n",
      "collision: IM-0062-0003-0001.dcm\n",
      "collision: IM-0065-0030-0001.dcm\n",
      "collision: IM-0068-0018-0001.dcm\n",
      "collision: IM-0069-0008-0001.dcm\n",
      "collision: IM-0069-0008-0001.dcm\n",
      "collision: IM-0069-0008-0001.dcm\n",
      "collision: IM-0069-0008-0001.dcm\n",
      "collision: IM-0069-0008-0001.dcm\n",
      "collision: IM-0069-0008-0001.dcm\n",
      "collision: IM-0069-0008-0001.dcm\n",
      "collision: IM-0069-0008-0001.dcm\n",
      "collision: IM-0069-0008-0001.dcm\n",
      "collision: IM-0069-0008-0001.dcm\n",
      "collision: IM-0001-0013-0001.dcm\n",
      "collision: IM-0001-0014-0001.dcm\n",
      "collision: IM-0001-0021-0001.dcm\n",
      "collision: IM-0003-0006-0001.dcm\n",
      "collision: IM-0003-0013-0001.dcm\n",
      "collision: IM-0003-0021-0001.dcm\n",
      "collision: IM-0004-0004-0001.dcm\n",
      "collision: IM-0004-0006-0001.dcm\n",
      "collision: IM-0004-0009-0001.dcm\n",
      "collision: IM-0004-0016-0001.dcm\n",
      "collision: IM-0007-0007-0001.dcm\n",
      "collision: IM-0008-0017-0001.dcm\n",
      "collision: IM-0008-0026-0001.dcm\n",
      "collision: IM-0012-0025-0001.dcm\n",
      "collision: IM-0016-0020-0001.dcm\n",
      "collision: IM-0017-0005-0001.dcm\n",
      "collision: IM-0018-0021-0001.dcm\n",
      "collision: IM-0019-0015-0001.dcm\n",
      "collision: IM-0019-0015-0001.dcm\n",
      "collision: IM-0019-0024-0001.dcm\n",
      "collision: IM-0019-0033-0001.dcm\n",
      "collision: IM-0020-0001-0001.dcm\n",
      "collision: IM-0020-0029-0001.dcm\n",
      "collision: IM-0021-0018-0001.dcm\n",
      "collision: IM-0022-0006-0001.dcm\n",
      "collision: IM-0022-0015-0001.dcm\n",
      "collision: IM-0032-0003-0001.dcm\n",
      "collision: IM-0035-0006-0001.dcm\n",
      "collision: IM-0035-0032-0001.dcm\n",
      "collision: IM-0036-0007-0001.dcm\n",
      "collision: IM-0036-0023-0001.dcm\n",
      "collision: IM-0039-0015-0001.dcm\n",
      "collision: IM-0039-0018-0001.dcm\n",
      "collision: IM-0040-0007-0001.dcm\n",
      "collision: IM-0040-0015-0001.dcm\n",
      "collision: IM-0040-0023-0001.dcm\n",
      "collision: IM-0040-0023-0001.dcm\n",
      "collision: IM-0040-0023-0001.dcm\n",
      "collision: IM-0040-0023-0001.dcm\n",
      "collision: IM-0040-0023-0001.dcm\n",
      "collision: IM-0040-0023-0001.dcm\n",
      "collision: IM-0040-0023-0001.dcm\n",
      "collision: IM-0040-0023-0001.dcm\n",
      "collision: IM-0040-0023-0001.dcm\n",
      "collision: IM-0040-0023-0001.dcm\n",
      "collision: IM-0040-0023-0001.dcm\n",
      "collision: IM-0040-0023-0001.dcm\n",
      "collision: IM-0040-0023-0001.dcm\n",
      "collision: IM-0040-0023-0001.dcm\n",
      "collision: IM-0040-0023-0001.dcm\n",
      "collision: IM-0040-0031-0001.dcm\n",
      "collision: IM-0041-0003-0001.dcm\n",
      "collision: IM-0041-0023-0001.dcm\n",
      "collision: IM-0044-0015-0001.dcm\n",
      "collision: IM-0044-0021-0001.dcm\n",
      "collision: IM-0044-0024-0001.dcm\n",
      "collision: IM-0049-0004-0001.dcm\n",
      "collision: IM-0051-0004-0001.dcm\n",
      "collision: IM-0053-0008-0001.dcm\n",
      "collision: IM-0053-0023-0001.dcm\n",
      "collision: IM-0053-0030-0001.dcm\n",
      "collision: IM-0054-0029-0001.dcm\n",
      "collision: IM-0056-0015-0001.dcm\n",
      "collision: IM-0058-0011-0001.dcm\n",
      "collision: IM-0059-0001-0001.dcm\n",
      "collision: IM-0059-0006-0001.dcm\n",
      "collision: IM-0060-0009-0001.dcm\n",
      "collision: IM-0060-0019-0001.dcm\n",
      "collision: IM-0060-0029-0001.dcm\n",
      "collision: IM-0065-0031-0001.dcm\n",
      "collision: IM-0066-0006-0001.dcm\n",
      "collision: IM-0066-0017-0001.dcm\n",
      "collision: IM-0067-0006-0001.dcm\n",
      "collision: IM-0067-0018-0001.dcm\n",
      "collision: IM-0067-0019-0001.dcm\n",
      "collision: IM-0069-0007-0001.dcm\n",
      "collision: IM-0001-0014-0001.dcm\n",
      "collision: IM-0001-0017-0001.dcm\n",
      "collision: IM-0001-0018-0001.dcm\n",
      "collision: IM-0001-0022-0001.dcm\n",
      "collision: IM-0002-0018-0001.dcm\n",
      "collision: IM-0003-0022-0001.dcm\n",
      "collision: IM-0004-0014-0001.dcm\n",
      "collision: IM-0004-0024-0001.dcm\n",
      "collision: IM-0005-0018-0001.dcm\n",
      "collision: IM-0006-0006-0001.dcm\n",
      "collision: IM-0006-0028-0001.dcm\n",
      "collision: IM-0006-0030-0001.dcm\n",
      "collision: IM-0009-0021-0001.dcm\n",
      "collision: IM-0010-0021-0001.dcm\n",
      "collision: IM-0011-0005-0001.dcm\n",
      "collision: IM-0011-0005-0001.dcm\n",
      "collision: IM-0013-0004-0001.dcm\n",
      "collision: IM-0014-0001-0001.dcm\n",
      "collision: IM-0014-0007-0001.dcm\n",
      "collision: IM-0014-0009-0001.dcm\n",
      "collision: IM-0014-0031-0001.dcm\n",
      "collision: IM-0015-0013-0001.dcm\n",
      "collision: IM-0017-0003-0001.dcm\n",
      "collision: IM-0017-0003-0001.dcm\n",
      "collision: IM-0019-0015-0001.dcm\n",
      "collision: IM-0019-0026-0001.dcm\n",
      "collision: IM-0020-0006-0001.dcm\n",
      "collision: IM-0021-0025-0001.dcm\n",
      "collision: IM-0022-0018-0001.dcm\n",
      "collision: IM-0022-0023-0001.dcm\n",
      "collision: IM-0025-0025-0001.dcm\n",
      "collision: IM-0026-0026-0001.dcm\n",
      "collision: IM-0029-0003-0001.dcm\n",
      "collision: IM-0030-0004-0001.dcm\n",
      "collision: IM-0030-0007-0001.dcm\n",
      "collision: IM-0030-0011-0001.dcm\n",
      "collision: IM-0032-0012-0001.dcm\n",
      "collision: IM-0032-0027-0001.dcm\n",
      "collision: IM-0032-0031-0001.dcm\n",
      "collision: IM-0035-0027-0001.dcm\n",
      "collision: IM-0037-0013-0001.dcm\n",
      "collision: IM-0038-0011-0001.dcm\n",
      "collision: IM-0038-0022-0001.dcm\n",
      "collision: IM-0038-0025-0001.dcm\n",
      "collision: IM-0039-0029-0001.dcm\n",
      "collision: IM-0040-0015-0001.dcm\n",
      "collision: IM-0041-0004-0001.dcm\n",
      "collision: IM-0042-0021-0001.dcm\n",
      "collision: IM-0044-0015-0001.dcm\n",
      "collision: IM-0044-0015-0001.dcm\n",
      "collision: IM-0044-0017-0001.dcm\n",
      "collision: IM-0046-0021-0001.dcm\n",
      "collision: IM-0046-0029-0001.dcm\n",
      "collision: IM-0047-0020-0001.dcm\n",
      "collision: IM-0048-0005-0001.dcm\n",
      "collision: IM-0048-0011-0001.dcm\n",
      "collision: IM-0048-0027-0001.dcm\n",
      "collision: IM-0052-0039-0001.dcm\n",
      "collision: IM-0052-0043-0001.dcm\n",
      "collision: IM-0052-0048-0001.dcm\n",
      "collision: IM-0056-0003-0001.dcm\n",
      "collision: IM-0058-0002-0001.dcm\n",
      "collision: IM-0058-0012-0001.dcm\n",
      "collision: IM-0058-0025-0001.dcm\n",
      "collision: IM-0060-0014-0001.dcm\n",
      "collision: IM-0060-0014-0001.dcm\n",
      "collision: IM-0060-0029-0001.dcm\n",
      "collision: IM-0061-0008-0001.dcm\n",
      "collision: IM-0061-0017-0001.dcm\n",
      "collision: IM-0062-0003-0001.dcm\n",
      "collision: IM-0062-0022-0001.dcm\n",
      "collision: IM-0063-0004-0001.dcm\n",
      "collision: IM-0064-0010-0001.dcm\n",
      "collision: IM-0065-0011-0001.dcm\n",
      "collision: IM-0066-0016-0001.dcm\n",
      "collision: IM-0066-0016-0001.dcm\n",
      "collision: IM-0066-0016-0001.dcm\n",
      "collision: IM-0066-0017-0001.dcm\n",
      "collision: IM-0067-0003-0001.dcm\n",
      "collision: IM-0067-0012-0001.dcm\n",
      "collision: IM-0067-0015-0001.dcm\n",
      "collision: IM-0068-0001-0001.dcm\n",
      "collision: IM-0069-0001-0001.dcm\n",
      "collision: IM-0069-0001-0001.dcm\n",
      "collision: IM-0069-0019-0001.dcm\n",
      "collision: IM-0071-0019-0001.dcm\n",
      "collision: IM-0071-0026-0001.dcm\n",
      "collision: IM-0071-0027-0001.dcm\n",
      "collision: IM-0071-0027-0001.dcm\n",
      "750\n",
      "[['IM-0001-0001-0001.dcm', 2], ['IM-0001-0007-0001.dcm', 1], ['IM-0001-0013-0001.dcm', 1], ['IM-0001-0014-0001.dcm', 1], ['IM-0001-0017-0001.dcm', 0], ['IM-0001-0018-0001.dcm', 1], ['IM-0001-0020-0001.dcm', 1], ['IM-0001-0021-0001.dcm', 2], ['IM-0001-0022-0001.dcm', 2], ['IM-0001-0023-0001.dcm', 1]]\n",
      "['IM-0001-0007-0001.dcm', 'IM-0001-0017-0001.dcm', 'IM-0001-0020-0001.dcm', 'IM-0001-0021-0001.dcm', 'IM-0001-0022-0001.dcm', 'IM-0001-0023-0001.dcm', 'IM-0002-0010-0001.dcm', 'IM-0002-0015-0001.dcm', 'IM-0002-0020-0001.dcm', 'IM-0002-0022-0001.dcm']\n"
     ]
    }
   ],
   "source": [
    "\n",
    "%matplotlib inline\n",
    "\n",
    "import numpy as np\n",
    "import seaborn as sns\n",
    "import pandas as pd\n",
    "import matplotlib.pyplot as plt\n",
    "import sklearn.metrics\n",
    "\n",
    "\n",
    "\n",
    "tech_log_paths = [\n",
    "    \"./data/logs/techs/log_chmr2.csv\",\n",
    "    \"./data/logs/techs/log_chmr3.csv\",\n",
    "    \"./data/logs/techs/log_chmr4.csv\", \n",
    "]\n",
    "\n",
    "processed_dicoms = []\n",
    "ratings_techs = []\n",
    "\n",
    "for log_path in tech_log_paths:\n",
    "\n",
    "    rater = get_ratings_list(log_path, label_index=3)\n",
    "\n",
    "    for elem in rater:\n",
    "\n",
    "        if (elem[0] in processed_dicoms):\n",
    "            print(\"collision: \" + str(elem[0]))\n",
    "\n",
    "        else:\n",
    "            \n",
    "#             print([elem[0], elem[1]-1])\n",
    "            ratings_techs.append([elem[0], elem[1] - 1])\n",
    "            processed_dicoms.append(elem[0])\n",
    "\n",
    "print(len(ratings_techs))\n",
    "\n",
    "ratings_techs = sorted(ratings_techs, key=(lambda x: x[0]))\n",
    "\n",
    "print(ratings_techs[:10])\n",
    "print(processed_dicoms[:10])\n"
   ]
  },
  {
   "cell_type": "markdown",
   "metadata": {},
   "source": [
    "## Fellow (Ali) vs. Techs"
   ]
  },
  {
   "cell_type": "code",
   "execution_count": 125,
   "metadata": {
    "ExecuteTime": {
     "end_time": "2019-08-15T00:30:50.194669Z",
     "start_time": "2019-08-15T00:30:49.996423Z"
    }
   },
   "outputs": [
    {
     "name": "stdout",
     "output_type": "stream",
     "text": [
      "750\n",
      "750\n"
     ]
    },
    {
     "data": {
      "image/png": "[encoded data removed]",
      "text/plain": [
       "<Figure size 432x288 with 2 Axes>"
      ]
     },
     "metadata": {},
     "output_type": "display_data"
    }
   ],
   "source": [
    "\n",
    "log_path_ali = \"./data/logs/ratings_ali.csv\"\n",
    "\n",
    "ratings_ali = get_ratings_list(log_path_ali)\n",
    "\n",
    "ali_instersect = sorted([elem for elem in ratings_ali if elem[0] in processed_dicoms], key=get_first)\n",
    "\n",
    "ali_intersect_labels = [rating[1] for rating in ali_instersect]\n",
    "tech_labels = [rating[1] for rating in ratings_techs]\n",
    "\n",
    "print(len(ali_intersect_labels))\n",
    "print(len(tech_labels))\n",
    "\n",
    "display_cm(ali_intersect_labels, tech_labels, axis_titles=[\"ali\", \"techs\"])\n"
   ]
  },
  {
   "cell_type": "markdown",
   "metadata": {},
   "source": [
    "## Fellow (Peter) vs. Techs"
   ]
  },
  {
   "cell_type": "code",
   "execution_count": 126,
   "metadata": {
    "ExecuteTime": {
     "end_time": "2019-08-15T00:30:50.393271Z",
     "start_time": "2019-08-15T00:30:50.196411Z"
    }
   },
   "outputs": [
    {
     "name": "stdout",
     "output_type": "stream",
     "text": [
      "750\n",
      "750\n"
     ]
    },
    {
     "data": {
      "image/png": "[encoded data removed]",
      "text/plain": [
       "<Figure size 432x288 with 2 Axes>"
      ]
     },
     "metadata": {},
     "output_type": "display_data"
    }
   ],
   "source": [
    "log_path_peter = \"./data/logs/ratings_peter.csv\"\n",
    "\n",
    "ratings_peter = get_ratings_list(log_path_peter)\n",
    "\n",
    "peter_instersect = sorted([elem for elem in ratings_peter if elem[0] in processed_dicoms], key=get_first)\n",
    "\n",
    "# peter_intersect_ratings = []\n",
    "# already_added = []\n",
    "\n",
    "# for elem in ratings_peter:\n",
    "#     if (elem[0] in processed_dicoms and elem[0] not in already_added):\n",
    "#         already_added.append(elem[0])\n",
    "#         peter_intersect_ratings.append(elem)\n",
    "\n",
    "# peter_intersect_ratings = sorted(peter_intersect_ratings, key=get_first)\n",
    "\n",
    "\n",
    "# TEMP FIX NEED TO FIGURE OUT WHY HE HAS EXTRA NUMBER OF VALUES\n",
    "peter_intersect_labels = [rating[1] for rating in peter_instersect][:750]\n",
    "\n",
    "tech_labels = [rating[1] for rating in ratings_techs]\n",
    "\n",
    "print(len(peter_intersect_labels))\n",
    "print(len(tech_labels))\n",
    "\n",
    "display_cm(peter_intersect_labels, tech_labels, axis_titles=[\"peter\", \"techs\"])"
   ]
  },
  {
   "cell_type": "markdown",
   "metadata": {},
   "source": [
    "# Jaccard Index"
   ]
  },
  {
   "cell_type": "code",
   "execution_count": 132,
   "metadata": {
    "ExecuteTime": {
     "end_time": "2019-08-15T00:34:34.368612Z",
     "start_time": "2019-08-15T00:34:34.034892Z"
    }
   },
   "outputs": [
    {
     "name": "stdout",
     "output_type": "stream",
     "text": [
      "0.18198529411764705\n",
      "0.26229508196721313\n",
      "0.07272727272727272\n",
      "0.019711902956785442\n",
      "0.40125\n",
      "0.336402701043585\n",
      "0.0\n",
      "0.044194756554307116\n",
      "0.3029411764705882\n"
     ]
    },
    {
     "data": {
      "image/png": "[encoded data removed]",
      "text/plain": [
       "<Figure size 432x288 with 2 Axes>"
      ]
     },
     "metadata": {},
     "output_type": "display_data"
    }
   ],
   "source": [
    "log_path_ali = \"./data/logs/ratings_ali.csv\"\n",
    "log_path_peter = \"./data/logs/ratings_peter.csv\"\n",
    "\n",
    "ratings_ali_indexed = get_indexed_ratings(log_path_ali)\n",
    "ratings_peter_indexed = get_indexed_ratings(log_path_peter)\n",
    "\n",
    "rater1_ratings = ratings_ali_indexed\n",
    "rater2_ratings = ratings_peter_indexed\n",
    "\n",
    "title = \"Jaccard indicies\"\n",
    "axis_titles = [\"ali\",\"peter\"]\n",
    "\n",
    "jaccard_cm = []\n",
    "\n",
    "for rater1 in range(3):\n",
    "    \n",
    "    rater1_row = []\n",
    "    \n",
    "    for rater2 in range(3):\n",
    "        \n",
    "        numerator = float(len([file for file in rater2_ratings[rater2] if file in rater1_ratings[rater1]]))\n",
    "        \n",
    "        denominator = len(ratings_ali_indexed[rater1]) + len(ratings_peter_indexed[rater2]) - numerator\n",
    "        \n",
    "        print(str(numerator/denominator))\n",
    "        \n",
    "        rater1_row.append(numerator/denominator)\n",
    "        \n",
    "    jaccard_cm.append(rater1_row)\n",
    "        \n",
    "\n",
    "df_cm = pd.DataFrame(jaccard_cm, range(3), range(3))\n",
    "\n",
    "#plt.figure(figsize = (10,7))\n",
    "\n",
    "sns.set(font_scale=1)#for label size\n",
    "\n",
    "plt.suptitle(title)\n",
    "\n",
    "ax = sns.heatmap(df_cm, annot=True,annot_kws={\"size\": 16})# font size\n",
    "ax.set(xlabel=axis_titles[1], ylabel=axis_titles[0])\n",
    "plt.show()\n",
    "        \n"
   ]
  },
  {
   "cell_type": "code",
   "execution_count": null,
   "metadata": {},
   "outputs": [],
   "source": []
  }
 ],
 "metadata": {
  "hide_input": false,
  "kernelspec": {
   "display_name": "Python 3",
   "language": "python",
   "name": "python3"
  },
  "language_info": {
   "codemirror_mode": {
    "name": "ipython",
    "version": 3
   },
   "file_extension": ".py",
   "mimetype": "text/x-python",
   "name": "python",
   "nbconvert_exporter": "python",
   "pygments_lexer": "ipython3",
   "version": "3.6.7"
  },
  "latex_envs": {
   "LaTeX_envs_menu_present": true,
   "autoclose": false,
   "autocomplete": true,
   "bibliofile": "biblio.bib",
   "cite_by": "apalike",
   "current_citInitial": 1,
   "eqLabelWithNumbers": true,
   "eqNumInitial": 1,
   "hotkeys": {
    "equation": "Ctrl-E",
    "itemize": "Ctrl-I"
   },
   "labels_anchors": false,
   "latex_user_defs": false,
   "report_style_numbering": false,
   "user_envs_cfg": false
  },
  "nbTranslate": {
   "displayLangs": [
    "*"
   ],
   "hotkey": "alt-t",
   "langInMainMenu": true,
   "sourceLang": "en",
   "targetLang": "fr",
   "useGoogleTranslate": true
  },
  "toc": {
   "base_numbering": 1,
   "nav_menu": {},
   "number_sections": true,
   "sideBar": true,
   "skip_h1_title": false,
   "title_cell": "Table of Contents",
   "title_sidebar": "Contents",
   "toc_cell": false,
   "toc_position": {},
   "toc_section_display": true,
   "toc_window_display": false
  }
 },
 "nbformat": 4,
 "nbformat_minor": 2
}
