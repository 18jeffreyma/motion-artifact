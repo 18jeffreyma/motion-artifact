{
 "cells": [
  {
   "cell_type": "code",
   "execution_count": 2,
   "metadata": {
    "ExecuteTime": {
     "end_time": "2019-08-13T19:02:44.238399Z",
     "start_time": "2019-08-13T19:02:43.129814Z"
    }
   },
   "outputs": [],
   "source": [
    "import csv\n",
    "import tensorflow as tf\n",
    "tf.enable_eager_execution()\n",
    "\n",
    "def get_ratings_list(log_path):\n",
    "    \n",
    "    ratings_list = []\n",
    "    \n",
    "    with open(log_path) as csv_file:\n",
    "        csv_reader = csv.reader(csv_file, delimiter=',')\n",
    "\n",
    "        row_count = 0\n",
    "\n",
    "        for row in csv_reader:\n",
    "\n",
    "            # ignore column name row\n",
    "            if (row_count != 0):\n",
    "                \n",
    "                if (int(row[2]) > 2):\n",
    "                    ratings_list.append([row[1], 3])\n",
    "                else:\n",
    "                    \n",
    "                    ratings_list.append([row[1], int(row[2])])\n",
    "\n",
    "            row_count = row_count + 1\n",
    "        \n",
    "    return ratings_list\n"
   ]
  },
  {
   "cell_type": "code",
   "execution_count": 3,
   "metadata": {
    "ExecuteTime": {
     "end_time": "2019-08-13T19:02:44.253487Z",
     "start_time": "2019-08-13T19:02:44.240256Z"
    }
   },
   "outputs": [
    {
     "name": "stdout",
     "output_type": "stream",
     "text": [
      "[['IM-0001-0001-0001.dcm', 1], ['IM-0001-0002-0001.dcm', 0], ['IM-0001-0003-0001.dcm', 2], ['IM-0001-0004-0001.dcm', 1], ['IM-0001-0005-0001.dcm', 1], ['IM-0001-0006-0001.dcm', 1], ['IM-0001-0007-0001.dcm', 1], ['IM-0001-0008-0001.dcm', 1], ['IM-0001-0009-0001.dcm', 0], ['IM-0001-0010-0001.dcm', 1], ['IM-0001-0011-0001.dcm', 0], ['IM-0001-0012-0001.dcm', 1], ['IM-0001-0013-0001.dcm', 1], ['IM-0001-0014-0001.dcm', 1], ['IM-0001-0015-0001.dcm', 1], ['IM-0001-0016-0001.dcm', 1], ['IM-0001-0017-0001.dcm', 2], ['IM-0001-0018-0001.dcm', 1], ['IM-0001-0019-0001.dcm', 1], ['IM-0001-0020-0001.dcm', 1]]\n",
      "[['IM-0001-0001-0001.dcm', 2], ['IM-0001-0002-0001.dcm', 0], ['IM-0001-0003-0001.dcm', 1], ['IM-0001-0004-0001.dcm', 1], ['IM-0001-0005-0001.dcm', 1], ['IM-0001-0006-0001.dcm', 1], ['IM-0001-0007-0001.dcm', 1], ['IM-0001-0008-0001.dcm', 1], ['IM-0001-0009-0001.dcm', 1], ['IM-0001-0010-0001.dcm', 1], ['IM-0001-0011-0001.dcm', 1], ['IM-0001-0012-0001.dcm', 1], ['IM-0001-0013-0001.dcm', 1], ['IM-0001-0014-0001.dcm', 1], ['IM-0001-0015-0001.dcm', 1], ['IM-0001-0016-0001.dcm', 1], ['IM-0001-0017-0001.dcm', 1], ['IM-0001-0018-0001.dcm', 2], ['IM-0001-0019-0001.dcm', 2], ['IM-0001-0020-0001.dcm', 1]]\n",
      "2111\n",
      "2111\n"
     ]
    }
   ],
   "source": [
    "def get_first(elem):\n",
    "    return elem[0]\n",
    "\n",
    "\n",
    "log_path_ali = \"./data/logs/ratings_ali.csv\"\n",
    "log_path_peter = \"./data/logs/ratings_peter.csv\"\n",
    "\n",
    "ratings_ali = get_ratings_list(log_path_ali)\n",
    "ratings_peter = get_ratings_list(log_path_peter)\n",
    "\n",
    "ratings_ali = sorted(ratings_ali, key=get_first)\n",
    "ratings_peter = sorted(ratings_peter, key=get_first)\n",
    "\n",
    "print(ratings_ali[:20])\n",
    "print(ratings_peter[:20])\n",
    "\n",
    "print(len(ratings_ali))\n",
    "print(len(ratings_peter))\n",
    "\n",
    "#check if length of two 2d arrays are the same"
   ]
  },
  {
   "cell_type": "code",
   "execution_count": 4,
   "metadata": {
    "ExecuteTime": {
     "end_time": "2019-08-13T19:02:47.982895Z",
     "start_time": "2019-08-13T19:02:45.635859Z"
    }
   },
   "outputs": [
    {
     "name": "stderr",
     "output_type": "stream",
     "text": [
      "/usr/local/lib/python3.6/dist-packages/matplotlib/__init__.py:886: MatplotlibDeprecationWarning: \n",
      "examples.directory is deprecated; in the future, examples will be found relative to the 'datapath' directory.\n",
      "  \"found relative to the 'datapath' directory.\".format(key))\n"
     ]
    },
    {
     "name": "stdout",
     "output_type": "stream",
     "text": [
      "2111\n",
      "2111\n",
      "[[ 83 308 126   0]\n",
      " [ 40 623 552   4]\n",
      " [  3  91 277   0]\n",
      " [  0   1   3   0]]\n",
      "    0    1    2  3\n",
      "0  83  308  126  0\n",
      "1  40  623  552  4\n",
      "2   3   91  277  0\n",
      "3   0    1    3  0\n"
     ]
    },
    {
     "data": {
      "image/png": "[encoded data removed]",
      "text/plain": [
       "<Figure size 432x288 with 2 Axes>"
      ]
     },
     "metadata": {},
     "output_type": "display_data"
    }
   ],
   "source": [
    "\n",
    "%matplotlib inline\n",
    "\n",
    "import numpy as np\n",
    "import seaborn as sns\n",
    "import pandas as pd\n",
    "import matplotlib.pyplot as plt\n",
    "import sklearn.metrics\n",
    "\n",
    "ali_labels = [rating[1] for rating in ratings_ali]\n",
    "peter_labels = [rating[1] for rating in ratings_peter]\n",
    "\n",
    "\n",
    "print(len(ali_labels))\n",
    "print(len(peter_labels))\n",
    "\n",
    "cm = tf.confusion_matrix(ali_labels, peter_labels).numpy()\n",
    "\n",
    "print(cm)\n",
    "\n",
    "\n",
    "# row_sums = cm.sum(axis=1)\n",
    "# cm = cm / row_sums[:, np.newaxis]\n",
    "\n",
    "df_cm = pd.DataFrame(cm, range(4), range(4))\n",
    "print(df_cm)\n",
    "#plt.figure(figsize = (10,7))\n",
    "\n",
    "sns.set(font_scale=1)#for label size\n",
    "\n",
    "cohen_kappa = sklearn.metrics.cohen_kappa_score(ali_labels, peter_labels)\n",
    "\n",
    "plt.suptitle(\"inter-rater variability (k: \" + str('%.3f'%(cohen_kappa)) + \")\")\n",
    "\n",
    "\n",
    "\n",
    "ax = sns.heatmap(df_cm, annot=True,annot_kws={\"size\": 16}, fmt='g')# font size\n",
    "ax.set(xlabel='peter_labels', ylabel='ali_labels')\n",
    "plt.show()"
   ]
  },
  {
   "cell_type": "code",
   "execution_count": null,
   "metadata": {},
   "outputs": [],
   "source": []
  }
 ],
 "metadata": {
  "hide_input": false,
  "kernelspec": {
   "display_name": "Python 3",
   "language": "python",
   "name": "python3"
  },
  "language_info": {
   "codemirror_mode": {
    "name": "ipython",
    "version": 3
   },
   "file_extension": ".py",
   "mimetype": "text/x-python",
   "name": "python",
   "nbconvert_exporter": "python",
   "pygments_lexer": "ipython3",
   "version": "3.6.7"
  },
  "latex_envs": {
   "LaTeX_envs_menu_present": true,
   "autoclose": false,
   "autocomplete": true,
   "bibliofile": "biblio.bib",
   "cite_by": "apalike",
   "current_citInitial": 1,
   "eqLabelWithNumbers": true,
   "eqNumInitial": 1,
   "hotkeys": {
    "equation": "Ctrl-E",
    "itemize": "Ctrl-I"
   },
   "labels_anchors": false,
   "latex_user_defs": false,
   "report_style_numbering": false,
   "user_envs_cfg": false
  },
  "nbTranslate": {
   "displayLangs": [
    "*"
   ],
   "hotkey": "alt-t",
   "langInMainMenu": true,
   "sourceLang": "en",
   "targetLang": "fr",
   "useGoogleTranslate": true
  },
  "toc": {
   "base_numbering": 1,
   "nav_menu": {},
   "number_sections": true,
   "sideBar": true,
   "skip_h1_title": false,
   "title_cell": "Table of Contents",
   "title_sidebar": "Contents",
   "toc_cell": false,
   "toc_position": {},
   "toc_section_display": true,
   "toc_window_display": false
  }
 },
 "nbformat": 4,
 "nbformat_minor": 2
}
