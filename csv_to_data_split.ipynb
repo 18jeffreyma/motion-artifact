{
 "cells": [
  {
   "cell_type": "markdown",
   "metadata": {},
   "source": [
    "# Get Ratings from CSV"
   ]
  },
  {
   "cell_type": "code",
   "execution_count": 1,
   "metadata": {
    "ExecuteTime": {
     "end_time": "2019-08-13T05:51:52.489053Z",
     "start_time": "2019-08-13T05:51:52.483200Z"
    }
   },
   "outputs": [],
   "source": [
    "import csv\n",
    "\n",
    "def get_ratings_list(log_path):\n",
    "    \n",
    "    ratings_list = []\n",
    "    \n",
    "    with open(log_path) as csv_file:\n",
    "        csv_reader = csv.reader(csv_file, delimiter=',')\n",
    "\n",
    "        row_count = 0\n",
    "\n",
    "        for row in csv_reader:\n",
    "\n",
    "            # ignore column name row\n",
    "            if (row_count != 0):\n",
    "\n",
    "                ratings_list.append([row[1], int(row[2])])\n",
    "\n",
    "            row_count = row_count + 1\n",
    "        \n",
    "    return ratings_list\n"
   ]
  },
  {
   "cell_type": "markdown",
   "metadata": {},
   "source": [
    "# Inter-Rater Variability Analysis"
   ]
  },
  {
   "cell_type": "markdown",
   "metadata": {},
   "source": [
    "## Sorting images and labels"
   ]
  },
  {
   "cell_type": "code",
   "execution_count": 37,
   "metadata": {
    "ExecuteTime": {
     "end_time": "2019-08-13T05:09:14.979061Z",
     "start_time": "2019-08-13T05:09:14.963098Z"
    }
   },
   "outputs": [
    {
     "name": "stdout",
     "output_type": "stream",
     "text": [
      "[['IM-0001-0001-0001.dcm', 1], ['IM-0001-0002-0001.dcm', 0], ['IM-0001-0003-0001.dcm', 2], ['IM-0001-0004-0001.dcm', 1], ['IM-0001-0005-0001.dcm', 1], ['IM-0001-0006-0001.dcm', 1], ['IM-0001-0007-0001.dcm', 1], ['IM-0001-0008-0001.dcm', 1], ['IM-0001-0009-0001.dcm', 0], ['IM-0001-0010-0001.dcm', 1]]\n",
      "[['IM-0001-0001-0001.dcm', 2], ['IM-0001-0002-0001.dcm', 0], ['IM-0001-0003-0001.dcm', 1], ['IM-0001-0004-0001.dcm', 1], ['IM-0001-0005-0001.dcm', 1], ['IM-0001-0006-0001.dcm', 1], ['IM-0001-0007-0001.dcm', 1], ['IM-0001-0008-0001.dcm', 1], ['IM-0001-0009-0001.dcm', 1], ['IM-0001-0010-0001.dcm', 1]]\n"
     ]
    }
   ],
   "source": [
    "def get_first(elem):\n",
    "    return elem[0]\n",
    "\n",
    "\n",
    "log_path_ali = \"./data/logs/ratings_ali.csv\"\n",
    "log_path_peter = \"./data/logs/ratings_peter.csv\"\n",
    "\n",
    "ratings_ali = get_ratings_list(log_path_ali)\n",
    "ratings_peter = get_ratings_list(log_path_peter)\n",
    "\n",
    "ratings_ali = sorted(ratings_ali, key=get_first)\n",
    "ratings_peter = sorted(ratings_peter, key=get_first)\n",
    "\n",
    "print(ratings_ali[:10])\n",
    "print(ratings_peter[:10])\n",
    "\n",
    "\n",
    "#check if length of two 2d arrays are the same"
   ]
  },
  {
   "cell_type": "markdown",
   "metadata": {},
   "source": [
    "# Generate Folder Structure from CSV"
   ]
  },
  {
   "cell_type": "code",
   "execution_count": null,
   "metadata": {
    "ExecuteTime": {
     "start_time": "2019-08-13T06:02:03.709Z"
    },
    "scrolled": true
   },
   "outputs": [
    {
     "name": "stdout",
     "output_type": "stream",
     "text": [
      "using rater log: ratings_ali.csv\n",
      "outputting to: ./data/generated_sets/ali_labels/\n",
      "progress: 0/2111\n",
      "progress: 10/2111\n",
      "progress: 20/2111\n",
      "progress: 30/2111\n",
      "progress: 40/2111\n",
      "progress: 50/2111\n",
      "progress: 60/2111\n",
      "progress: 70/2111\n",
      "progress: 80/2111\n",
      "progress: 90/2111\n",
      "progress: 100/2111\n",
      "progress: 110/2111\n",
      "progress: 120/2111\n",
      "progress: 130/2111\n",
      "progress: 140/2111\n",
      "progress: 150/2111\n",
      "progress: 160/2111\n",
      "progress: 170/2111\n",
      "progress: 180/2111\n",
      "progress: 190/2111\n",
      "progress: 200/2111\n",
      "progress: 210/2111\n",
      "progress: 220/2111\n",
      "progress: 230/2111\n",
      "progress: 240/2111\n",
      "progress: 250/2111\n",
      "progress: 260/2111\n",
      "progress: 270/2111\n",
      "progress: 280/2111\n",
      "progress: 290/2111\n",
      "progress: 300/2111\n",
      "progress: 310/2111\n",
      "progress: 320/2111\n",
      "progress: 330/2111\n",
      "progress: 340/2111\n",
      "progress: 350/2111\n",
      "progress: 360/2111\n",
      "progress: 370/2111\n",
      "progress: 380/2111\n",
      "progress: 390/2111\n",
      "progress: 400/2111\n"
     ]
    }
   ],
   "source": [
    "import shutil\n",
    "import mritopng\n",
    "import os\n",
    "\n",
    "\n",
    "#####------ ADJUST SETTINGS BELOW ------#####\n",
    "\n",
    "log_path = \"./data/logs/\"\n",
    "data_pool_path = \"./data/data_pool_dicom/\"\n",
    "output_dir = \"./data/generated_sets/\"\n",
    "\n",
    "rater_log_paths = [\"ratings_ali.csv\", \"ratings_peter.csv\"]\n",
    "output_paths = [\"ali_labels/\", \"peter_labels/\"]\n",
    "\n",
    "\n",
    "#####------ ADJUST SETTINGS ABOVE ------#####\n",
    "\n",
    "\n",
    "for rater_log, output_path in zip(rater_log_paths, output_paths):\n",
    "    \n",
    "    print(\"using rater log: \" + rater_log)\n",
    "    print(\"outputting to: \" + output_dir + output_path)\n",
    "    \n",
    "    if os.path.exists(output_path):\n",
    "        shutil.rmtree(output_path)\n",
    "    os.mkdir(output_path)\n",
    "\n",
    "    os.mkdir(output_path + \"0/\")\n",
    "    os.mkdir(output_path + \"1/\")\n",
    "    os.mkdir(output_path + \"2/\")\n",
    "\n",
    "    ratings = get_ratings_list(log_path + rater_log)\n",
    "    \n",
    "    total_len = len(ratings)\n",
    "    count = 0\n",
    "    \n",
    "    for elem in ratings:\n",
    "\n",
    "        if (count % 10 == 0):\n",
    "            print(\"progress: \" + str(count) + \"/\" + str(total_len))\n",
    "\n",
    "\n",
    "        if (elem[1] != 100):\n",
    "            mritopng.convert_file(data_pool_path + elem[0],  \n",
    "                                  output_path + str(elem[1]) + \"/\" + elem[0] + \".png\", \n",
    "                                  auto_contrast=True)\n",
    "\n",
    "        count = count + 1\n",
    "\n",
    "# above seems to take care of contrast as well\n",
    "        \n",
    "    "
   ]
  },
  {
   "cell_type": "markdown",
   "metadata": {},
   "source": [
    "# Split into Train, Eval, Test"
   ]
  },
  {
   "cell_type": "code",
   "execution_count": null,
   "metadata": {},
   "outputs": [],
   "source": [
    "import load_data_utility\n",
    "import shutil\n",
    "import os\n",
    "import pathlib\n",
    "\n",
    "#####------ ADJUST SETTINGS BELOW ------#####\n",
    "\n",
    "data_root = \"./data/original_data/data_relabeled_undersampled_png/\"\n",
    "output_folter = \"./data/generated_splits/undersampled/\"\n",
    "split_ratios = [0.7, 0.1, 0.2]\n",
    "\n",
    "#####------ ADJUST SETTINGS ABOVE ------#####\n",
    "\n",
    "image_paths = load_data_utility.load_image_paths(data_root)\n",
    "\n",
    "print(image_paths[:5])\n",
    "\n",
    "train_paths, eval_paths, test_paths = load_data_utility.split(image_paths, split=split_ratios, seed=777)\n",
    "\n",
    "def get_label(path):\n",
    "    \n",
    "    path_location = pathlib.Path(path)\n",
    "    \n",
    "    str1 = str(path_location.parents[0])\n",
    "    str2 = str(path_location.parents[1])\n",
    "    \n",
    "    \n",
    "    retval = str1.replace(str2, '')\n",
    "    retval = retval.replace(\"/\", '')\n",
    "    \n",
    "    return retval\n",
    "\n",
    "\n",
    "print(train_paths[0])\n",
    "print(get_label(train_paths[0]))\n",
    "\n",
    "if os.path.exists(output_folter):\n",
    "    shutil.rmtree(output_folter)\n",
    "    \n",
    "os.mkdir(output_folter)\n",
    "os.mkdir(output_folter + \"train/\")\n",
    "os.mkdir(output_folter + \"eval/\")\n",
    "os.mkdir(output_folter + \"test/\")\n",
    "os.mkdir(output_folter + \"train/0/\")\n",
    "os.mkdir(output_folter + \"train/1/\")\n",
    "os.mkdir(output_folter + \"train/2/\")\n",
    "os.mkdir(output_folter + \"eval/0/\")\n",
    "os.mkdir(output_folter + \"eval/1/\")\n",
    "os.mkdir(output_folter + \"eval/2/\")\n",
    "os.mkdir(output_folter + \"test/0/\")\n",
    "os.mkdir(output_folter + \"test/1/\")\n",
    "os.mkdir(output_folter + \"test/2/\")\n",
    "\n",
    "\n",
    "for pngfile in train_paths:\n",
    "    shutil.copy(pngfile, output_folter + \"train/\" + get_label(pngfile) + \"/\" )\n",
    "\n",
    "for pngfile in eval_paths:\n",
    "    shutil.copy(pngfile, output_folter + \"eval/\" + get_label(pngfile) + \"/\" )\n",
    "    \n",
    "for pngfile in test_paths:\n",
    "    shutil.copy(pngfile, output_folter + \"test/\" + get_label(pngfile) + \"/\" )\n"
   ]
  },
  {
   "cell_type": "markdown",
   "metadata": {},
   "source": [
    "# Dataset Balancing"
   ]
  },
  {
   "cell_type": "markdown",
   "metadata": {},
   "source": [
    "## Balancing Utility Functions"
   ]
  },
  {
   "cell_type": "code",
   "execution_count": null,
   "metadata": {},
   "outputs": [],
   "source": [
    "import pathlib\n",
    "import random\n",
    "\n",
    "# load an array of image paths\n",
    "def load_sorted_paths(path):\n",
    "    \n",
    "    data_root = pathlib.Path(path)\n",
    "    \n",
    "    paths = []\n",
    "    \n",
    "    for child in data_root.iterdir():\n",
    "        if (child.is_dir() and child.name != \".DS_Store\"):\n",
    "            print(child)\n",
    "            \n",
    "            subdir_paths = list(child.glob('**/*'))\n",
    "            subdir_paths = [str(path) for path in subdir_paths if path.name != \".DS_Store\"]\n",
    "        \n",
    "            paths.append(subdir_paths)\n",
    "    \n",
    "    return paths\n",
    "\n",
    "\n",
    "# load an array of image paths\n",
    "def load_dir_paths(path):\n",
    "    \n",
    "    data_root = pathlib.Path(path)\n",
    "    \n",
    "    paths = []\n",
    "    \n",
    "    for child in data_root.iterdir():\n",
    "        if (child.name != \".DS_Store\"):\n",
    "         \n",
    "            paths.append(str(child))\n",
    "    \n",
    "    return paths"
   ]
  },
  {
   "cell_type": "markdown",
   "metadata": {
    "heading_collapsed": true
   },
   "source": [
    "## Inserting Noisy Images"
   ]
  },
  {
   "cell_type": "code",
   "execution_count": null,
   "metadata": {
    "hidden": true
   },
   "outputs": [],
   "source": [
    "import synthetic_motion_utility as synth\n",
    "import imageio\n",
    "\n",
    "input_data_dir = \"./data/generated_splits/train_set_balanced/train/1/\"\n",
    "output_data_dir = \"./data/generated_splits/train_set_balanced/train/0/\"\n",
    "\n",
    "all_image_paths = load_dir_paths(input_data_dir)\n",
    "\n",
    "num_synthetic = 400\n",
    "counter = 0\n",
    "\n",
    "random.seed(a=777)\n",
    "random.shuffle(all_image_paths)\n",
    "\n",
    "while counter < num_synthetic:\n",
    "    \n",
    "    im = imageio.imread(all_image_paths[counter])\n",
    "    \n",
    "    im = synth.add_motion_artifact(im, seed=counter)\n",
    "    \n",
    "    imageio.imwrite(output_data_dir + \"synthetic_\" + str(counter) + \".png\", im)\n",
    "    \n",
    "    counter = counter + 1"
   ]
  },
  {
   "cell_type": "markdown",
   "metadata": {
    "heading_collapsed": true
   },
   "source": [
    "## Oversampling 2-Label Images"
   ]
  },
  {
   "cell_type": "code",
   "execution_count": null,
   "metadata": {
    "hidden": true
   },
   "outputs": [],
   "source": [
    "import os, glob, shutil\n",
    "\n",
    "data_root_2 = \"./data/generated_splits/train_set_balanced/train/2/\"\n",
    "image_paths_2 = load_dir_paths(data_root_2)\n",
    "\n",
    "print(image_paths_2[:10])\n",
    "\n",
    "for filename in glob.glob(data_root_2 + \"duplicate*\"):\n",
    "    os.remove(filename) \n",
    "\n",
    "counter = 0\n",
    "for pngfile in image_paths_2:\n",
    "    shutil.copy(pngfile, data_root_2 + \"duplicate_\" +  str(counter) + \".png\" )\n",
    "    counter = counter + 1\n"
   ]
  },
  {
   "cell_type": "markdown",
   "metadata": {
    "heading_collapsed": true
   },
   "source": [
    "## Undersampling Images"
   ]
  },
  {
   "cell_type": "code",
   "execution_count": null,
   "metadata": {
    "hidden": true
   },
   "outputs": [],
   "source": [
    "import os\n",
    "import random\n",
    "\n",
    "random.seed(a=777)\n",
    "\n",
    "data_root = \"./data/original_data/data_relabeled_undersampled_png/\"\n",
    "\n",
    "data_root = data_root + \"1/\"\n",
    "\n",
    "paths_in_dir = load_dir_paths(data_root)\n",
    "\n",
    "random.shuffle(paths_in_dir)\n",
    "\n",
    "print(paths_in_dir[:10])\n",
    "\n",
    "random.seed(a=777)\n",
    "\n",
    "for path in paths_in_dir:\n",
    "    \n",
    "    if (random.choice([True, False])):\n",
    "        print(\"removing: \" + path)\n",
    "        os.remove(path)"
   ]
  }
 ],
 "metadata": {
  "hide_input": false,
  "kernelspec": {
   "display_name": "Python 3",
   "language": "python",
   "name": "python3"
  },
  "language_info": {
   "codemirror_mode": {
    "name": "ipython",
    "version": 3
   },
   "file_extension": ".py",
   "mimetype": "text/x-python",
   "name": "python",
   "nbconvert_exporter": "python",
   "pygments_lexer": "ipython3",
   "version": "3.6.7"
  },
  "latex_envs": {
   "LaTeX_envs_menu_present": true,
   "autoclose": false,
   "autocomplete": true,
   "bibliofile": "biblio.bib",
   "cite_by": "apalike",
   "current_citInitial": 1,
   "eqLabelWithNumbers": true,
   "eqNumInitial": 1,
   "hotkeys": {
    "equation": "Ctrl-E",
    "itemize": "Ctrl-I"
   },
   "labels_anchors": false,
   "latex_user_defs": false,
   "report_style_numbering": false,
   "user_envs_cfg": false
  },
  "nbTranslate": {
   "displayLangs": [
    "*"
   ],
   "hotkey": "alt-t",
   "langInMainMenu": true,
   "sourceLang": "en",
   "targetLang": "fr",
   "useGoogleTranslate": true
  },
  "toc": {
   "base_numbering": 1,
   "nav_menu": {},
   "number_sections": true,
   "sideBar": true,
   "skip_h1_title": false,
   "title_cell": "Table of Contents",
   "title_sidebar": "Contents",
   "toc_cell": false,
   "toc_position": {},
   "toc_section_display": true,
   "toc_window_display": false
  },
  "varInspector": {
   "cols": {
    "lenName": 16,
    "lenType": 16,
    "lenVar": 40
   },
   "kernels_config": {
    "python": {
     "delete_cmd_postfix": "",
     "delete_cmd_prefix": "del ",
     "library": "var_list.py",
     "varRefreshCmd": "print(var_dic_list())"
    },
    "r": {
     "delete_cmd_postfix": ") ",
     "delete_cmd_prefix": "rm(",
     "library": "var_list.r",
     "varRefreshCmd": "cat(var_dic_list()) "
    }
   },
   "types_to_exclude": [
    "module",
    "function",
    "builtin_function_or_method",
    "instance",
    "_Feature"
   ],
   "window_display": false
  }
 },
 "nbformat": 4,
 "nbformat_minor": 2
}
